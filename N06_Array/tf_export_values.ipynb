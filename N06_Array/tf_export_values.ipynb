{
 "cells": [
  {
   "cell_type": "code",
   "execution_count": 1,
   "metadata": {
    "collapsed": true
   },
   "outputs": [],
   "source": [
    "import tensorflow as tf\n",
    "\n",
    "# For drawing sigmoid function\n",
    "import numpy as np\n",
    "import matplotlib.pyplot as plt\n",
    "import math"
   ]
  },
  {
   "cell_type": "code",
   "execution_count": 2,
   "metadata": {
    "collapsed": true
   },
   "outputs": [],
   "source": [
    "# Sample data\n",
    "x_data = [[1,2],[5,5],[3,1],[4,3],[5,3],[6,2]]\n",
    "y_data = [[0],[0],[0],[1],[1],[1]]\n",
    "\n",
    "x_test = [[1.5,2],[2.1,3],[3.2,1],[4.4,3],[6,3],[10,2]]\n",
    "y_test = [[0],[0],[0],[1],[1],[1]]\n"
   ]
  },
  {
   "cell_type": "code",
   "execution_count": 3,
   "metadata": {
    "collapsed": true
   },
   "outputs": [],
   "source": [
    "X = tf.placeholder(tf.float32, shape=[None, 2])\n",
    "Y = tf.placeholder(tf.float32, shape=[None, 1])\n",
    "W = tf.Variable(tf.random_normal([2,1]), name='weight')\n",
    "b = tf.Variable(tf.random_normal([1]),name='biaas')\n",
    "\n"
   ]
  },
  {
   "cell_type": "code",
   "execution_count": 10,
   "metadata": {
    "collapsed": false
   },
   "outputs": [],
   "source": [
    "hypothesis = tf.sigmoid(tf.matmul(X,W)+b)\n",
    "\n",
    "\n",
    "loss = -tf.reduce_mean(Y*tf.log(hypothesis) + (1-Y) * tf.log(1-hypothesis))\n",
    "train = tf.train.GradientDescentOptimizer(learning_rate=0.01).minimize(loss)\n",
    "\n",
    "# Accuracy and Prediction(T or F)\n",
    "# tf.cast(True,dtype=float32):  (True) -> (1.0)\n",
    "# Chainge the type for calculating accuracy\n",
    "predicted = tf.cast(hypothesis > 0.5, dtype=tf.float32)\n",
    "accuracy = tf.reduce_mean(tf.cast(tf.equal(predicted, Y), dtype=tf.float32))\n",
    "correct = tf.equal(predicted, Y)"
   ]
  },
  {
   "cell_type": "code",
   "execution_count": 12,
   "metadata": {
    "collapsed": false
   },
   "outputs": [
    {
     "name": "stdout",
     "output_type": "stream",
     "text": [
      "(0, 4.4800916)\n",
      "(1000, 0.4838419)\n",
      "(2000, 0.45316565)\n",
      "(3000, 0.43589386)\n",
      "(4000, 0.42295495)\n",
      "(5000, 0.41280174)\n",
      "(6000, 0.40460995)\n",
      "(7000, 0.39784846)\n",
      "(8000, 0.3921595)\n",
      "(9000, 0.38729557)\n",
      "(10000, 0.38307992)\n",
      "#######Training end########\n",
      "[ True  True False  True  True  True]\n",
      "(array([0, 1, 3, 4, 5]),)\n",
      "[ 1.5  2.1  3.2  4.4  6.  10. ]\n",
      "[ 1.5  2.1  4.4  6.  10. ]\n"
     ]
    }
   ],
   "source": [
    "#Launch graph\n",
    "with tf.Session() as sess:\n",
    "    # Initialize variables\n",
    "    sess.run(tf.global_variables_initializer())\n",
    "    \n",
    "    for step in range(10001):\n",
    "        loss_val, _ = sess.run([loss,train],feed_dict={X: x_data, Y: y_data})\n",
    "        if step % 1000 ==0:\n",
    "            print(step, loss_val)\n",
    "    print(\"#######Training end########\")\n",
    "    \n",
    "    #Accuracy report\n",
    "    h,c,a,xval,yval = sess.run([hypothesis, correct, accuracy,X,Y], feed_dict={X: x_test, Y: y_test})\n",
    "    c=c.flatten()\n",
    "    print(c)\n",
    "    print(np.where(c==1))\n",
    "    print(xval[:,0])\n",
    "    print(xval[c][:,0])\n",
    "    #print(\"\\nHypothesis: \", h, \"\\nCorrect (Y): \", c, \"\\nAccuracy: \", a)\n",
    "    #print(xval)"
   ]
  },
  {
   "cell_type": "code",
   "execution_count": null,
   "metadata": {
    "collapsed": true
   },
   "outputs": [],
   "source": []
  },
  {
   "cell_type": "code",
   "execution_count": null,
   "metadata": {
    "collapsed": true
   },
   "outputs": [],
   "source": []
  }
 ],
 "metadata": {
  "kernelspec": {
   "display_name": "Python (tensorflow_",
   "language": "python",
   "name": "tensorflow"
  },
  "language_info": {
   "codemirror_mode": {
    "name": "ipython",
    "version": 2
   },
   "file_extension": ".py",
   "mimetype": "text/x-python",
   "name": "python",
   "nbconvert_exporter": "python",
   "pygments_lexer": "ipython2",
   "version": "2.7.13"
  }
 },
 "nbformat": 4,
 "nbformat_minor": 2
}
