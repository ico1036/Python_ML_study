{
 "cells": [
  {
   "cell_type": "code",
   "execution_count": 1,
   "metadata": {},
   "outputs": [],
   "source": [
    "import torch\n",
    "from torch.autograd import Variable"
   ]
  },
  {
   "cell_type": "code",
   "execution_count": 2,
   "metadata": {},
   "outputs": [],
   "source": [
    "x_data = Variable(torch.Tensor([[1.0],[2.0],[3.0]]))\n",
    "y_data = Variable(torch.Tensor([[2.0],[4.0],[6.0]]))"
   ]
  },
  {
   "cell_type": "markdown",
   "metadata": {},
   "source": [
    "### 1. Make ML model using class"
   ]
  },
  {
   "cell_type": "code",
   "execution_count": 3,
   "metadata": {},
   "outputs": [],
   "source": [
    "class Model(torch.nn.Module):\n",
    "    def __init__(self):\n",
    "        super(Model,self).__init__()\n",
    "        self.linear = torch.nn.Linear(1,1)\n",
    "        \n",
    "        \n",
    "    def forward(self,x):\n",
    "        y_pred = self.linear(x)\n",
    "        return y_pred"
   ]
  },
  {
   "cell_type": "code",
   "execution_count": 4,
   "metadata": {},
   "outputs": [],
   "source": [
    "model = Model()"
   ]
  },
  {
   "cell_type": "markdown",
   "metadata": {},
   "source": [
    "### 2. Construct loss and optimizer"
   ]
  },
  {
   "cell_type": "code",
   "execution_count": 6,
   "metadata": {},
   "outputs": [],
   "source": [
    "criterion = torch.nn.MSELoss(reduction='sum')\n",
    "optimizer = torch.optim.SGD(model.parameters(), lr=0.01)"
   ]
  },
  {
   "cell_type": "markdown",
   "metadata": {},
   "source": [
    "### 3. Training"
   ]
  },
  {
   "cell_type": "code",
   "execution_count": 9,
   "metadata": {},
   "outputs": [],
   "source": [
    "EPOCH = 500"
   ]
  },
  {
   "cell_type": "code",
   "execution_count": 15,
   "metadata": {},
   "outputs": [
    {
     "name": "stdout",
     "output_type": "stream",
     "text": [
      "Epoch: 0 | loss: 4.092726157978177e-12\n",
      "Epoch: 50 | loss: 4.092726157978177e-12\n",
      "Epoch: 100 | loss: 4.092726157978177e-12\n",
      "Epoch: 150 | loss: 4.092726157978177e-12\n",
      "Epoch: 200 | loss: 4.092726157978177e-12\n",
      "Epoch: 250 | loss: 4.092726157978177e-12\n",
      "Epoch: 300 | loss: 4.092726157978177e-12\n",
      "Epoch: 350 | loss: 4.092726157978177e-12\n",
      "Epoch: 400 | loss: 4.092726157978177e-12\n",
      "Epoch: 450 | loss: 4.092726157978177e-12\n"
     ]
    }
   ],
   "source": [
    "for epoch in range(EPOCH):\n",
    "    # --forward pass\n",
    "    y_pred = model(x_data)\n",
    "    \n",
    "    # --Compute and print loss\n",
    "    loss = criterion(y_pred,y_data)\n",
    "    \n",
    "    if epoch % 50 == 0:\n",
    "        print(f'Epoch: {epoch} | loss: {loss.item()}')\n",
    "    \n",
    "    # --Gradient\n",
    "    optimizer.zero_grad() # -- Initialize gradient ( Accumulate grad -> clear)\n",
    "    loss.backward() # -- Back propagation\n",
    "    optimizer.step() # -- Update weights"
   ]
  },
  {
   "cell_type": "code",
   "execution_count": 25,
   "metadata": {},
   "outputs": [
    {
     "name": "stdout",
     "output_type": "stream",
     "text": [
      "Prediction:  7.999997138977051\n"
     ]
    }
   ],
   "source": [
    "test = torch.tensor([4.0])\n",
    "y_pred = model(test)\n",
    "print(\"Prediction: \", y_pred.data.item())"
   ]
  },
  {
   "cell_type": "code",
   "execution_count": null,
   "metadata": {},
   "outputs": [],
   "source": []
  }
 ],
 "metadata": {
  "kernelspec": {
   "display_name": "Python 3",
   "language": "python",
   "name": "python3"
  },
  "language_info": {
   "codemirror_mode": {
    "name": "ipython",
    "version": 3
   },
   "file_extension": ".py",
   "mimetype": "text/x-python",
   "name": "python",
   "nbconvert_exporter": "python",
   "pygments_lexer": "ipython3",
   "version": "3.8.5"
  }
 },
 "nbformat": 4,
 "nbformat_minor": 4
}
