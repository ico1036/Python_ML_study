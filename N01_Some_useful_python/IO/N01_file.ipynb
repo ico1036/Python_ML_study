{
 "cells": [
  {
   "cell_type": "markdown",
   "metadata": {},
   "source": [
    "# Python file handling  \n",
    "  \n",
    "  ## 1. Handle: It makes it possible to access file\n",
    "   *  Handle contains information  about the file\n",
    "   * You can  use 'open' method to get the handle about the file "
   ]
  },
  {
   "cell_type": "code",
   "execution_count": null,
   "metadata": {
    "collapsed": false
   },
   "outputs": [],
   "source": [
    "fhand = open('n01.txt')\n",
    "print(fhand)"
   ]
  },
  {
   "cell_type": "markdown",
   "metadata": {},
   "source": [
    "### + Newline character: \\n\n",
    "   * It is one of the chracter \n",
    "   * It means  \"go to the nex line\"\n",
    "   * Every lines in a file contatins newline character at the end of the each line\n",
    "   * 'print' statement has a new line\n",
    "   * We should consier it handlig files\n",
    " "
   ]
  },
  {
   "cell_type": "markdown",
   "metadata": {},
   "source": [
    "## 2. Reading the file line by line\n",
    "   * Handle is not data but sequence-pointer\n",
    "   * When the handle point sequence, one can read the data of the line\n",
    "   * For loop makes the handle scan all line pointing sequence "
   ]
  },
  {
   "cell_type": "code",
   "execution_count": null,
   "metadata": {
    "collapsed": false
   },
   "outputs": [],
   "source": [
    "count =0\n",
    "for line in fhand:\n",
    "    count = count+1\n",
    "    print(line)\n",
    "print('Line count: ',count)"
   ]
  },
  {
   "cell_type": "code",
   "execution_count": null,
   "metadata": {
    "collapsed": true
   },
   "outputs": [],
   "source": [
    "for line in fhand:\n",
    "    print(line)"
   ]
  },
  {
   "cell_type": "markdown",
   "metadata": {},
   "source": [
    "* No-output beacuse the handle point the end of the line"
   ]
  },
  {
   "cell_type": "code",
   "execution_count": null,
   "metadata": {
    "collapsed": true
   },
   "outputs": [],
   "source": [
    "fhand.seek(0)"
   ]
  },
  {
   "cell_type": "markdown",
   "metadata": {},
   "source": [
    "* seek(0) mehod intialize location of the handle"
   ]
  },
  {
   "cell_type": "markdown",
   "metadata": {},
   "source": [
    "## 3. Reading the whole file"
   ]
  },
  {
   "cell_type": "markdown",
   "metadata": {},
   "source": [
    "* read() mehod allows to read file as a one string"
   ]
  },
  {
   "cell_type": "code",
   "execution_count": null,
   "metadata": {
    "collapsed": false
   },
   "outputs": [],
   "source": [
    "file_str = fhand.read()\n",
    "print(file_str)\n",
    "print(type(file_str))\n",
    "print(len(file_str))\n"
   ]
  },
  {
   "cell_type": "markdown",
   "metadata": {},
   "source": [
    "## 4. Searching through a file\n",
    "  \n",
    "  \n",
    "  ### Example1. If the line starts with 'a' print the line"
   ]
  },
  {
   "cell_type": "code",
   "execution_count": null,
   "metadata": {
    "collapsed": false
   },
   "outputs": [],
   "source": [
    "fhand.seek(0)\n",
    "for line in fhand:\n",
    "    if line.startswith('1'):\n",
    "        print(line)"
   ]
  },
  {
   "cell_type": "markdown",
   "metadata": {},
   "source": [
    "+ There are double new lines!\n",
    "+ One is from 'print' the other is from end of the line\n",
    "+ We can use 'rstrip' mehod to blow out the new line of end of the line"
   ]
  },
  {
   "cell_type": "code",
   "execution_count": null,
   "metadata": {
    "collapsed": false
   },
   "outputs": [],
   "source": [
    "fhand.seek(0)\n",
    "for line in fhand:\n",
    "    line=line.rstrip()\n",
    "    if line.startswith('1'):\n",
    "        print(line)"
   ]
  },
  {
   "cell_type": "markdown",
   "metadata": {},
   "source": [
    "* You can also write the same code using 'if not' and  'continue' "
   ]
  },
  {
   "cell_type": "code",
   "execution_count": null,
   "metadata": {
    "collapsed": false
   },
   "outputs": [],
   "source": [
    "fhand.seek(0)\n",
    "for line in fhand:\n",
    "    line = line.rstrip()\n",
    "    if not line.startswith('1'):\n",
    "            continue\n",
    "    print(line)"
   ]
  },
  {
   "cell_type": "markdown",
   "metadata": {},
   "source": [
    "### Example 2. If the line contains string 'k', print it ( input yout file name )"
   ]
  },
  {
   "cell_type": "code",
   "execution_count": 2,
   "metadata": {
    "collapsed": false
   },
   "outputs": [
    {
     "name": "stdout",
     "output_type": "stream",
     "text": [
      "file name: n.txt\n",
      "('File cannot be opened:', 'n.txt')\n"
     ]
    }
   ],
   "source": [
    "fname = raw_input('file name: ')\n",
    "\n",
    "## --Exception handling \n",
    "try:\n",
    "    fhandle = open(fname)\n",
    "except:\n",
    "    print('File cannot be opened:',fname)\n",
    "    quit() ## -- This prevent the wrong data from passing next code \n",
    "    \n",
    "for line in fhandle:\n",
    "    line = line.rstrip()\n",
    "    if not 'k' in line:\n",
    "        continue\n",
    "    print(line)"
   ]
  },
  {
   "cell_type": "code",
   "execution_count": null,
   "metadata": {
    "collapsed": true
   },
   "outputs": [],
   "source": []
  }
 ],
 "metadata": {
  "kernelspec": {
   "display_name": "Python 2",
   "language": "python",
   "name": "python2"
  },
  "language_info": {
   "codemirror_mode": {
    "name": "ipython",
    "version": 2
   },
   "file_extension": ".py",
   "mimetype": "text/x-python",
   "name": "python",
   "nbconvert_exporter": "python",
   "pygments_lexer": "ipython2",
   "version": "2.7.13"
  }
 },
 "nbformat": 4,
 "nbformat_minor": 2
}
