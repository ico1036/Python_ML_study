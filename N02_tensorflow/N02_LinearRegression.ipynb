{
 "cells": [
  {
   "cell_type": "markdown",
   "metadata": {},
   "source": [
    "## Linear Regression"
   ]
  },
  {
   "cell_type": "code",
   "execution_count": 2,
   "metadata": {
    "collapsed": true
   },
   "outputs": [],
   "source": [
    "import tensorflow as tf"
   ]
  },
  {
   "cell_type": "markdown",
   "metadata": {},
   "source": [
    "###  - Hypothesis funtion for linear regression: H(x) = Wx + b"
   ]
  },
  {
   "cell_type": "code",
   "execution_count": 3,
   "metadata": {
    "collapsed": false
   },
   "outputs": [],
   "source": [
    "# Training dataset\n",
    "x_train = [1,2,3,4,5,6,7,8,9,10]\n",
    "y_train = [1,2,3,4,5,6,7,8,9,10]\n",
    "\n",
    "# Weight and bias\n",
    "W = tf.Variable(tf.random_normal([1]), name='weight')\n",
    "b = tf.Variable(tf.random_normal([1]), name='bias')\n",
    "\n",
    "# Hypotheis function\n",
    "hypothesis = x_train * W +b"
   ]
  },
  {
   "cell_type": "markdown",
   "metadata": {},
   "source": [
    "### - Loss function:  $$\\frac{1}{m} \\sum_{i=1}^m (H(x^i)-y^i)^2$$\n"
   ]
  },
  {
   "cell_type": "markdown",
   "metadata": {},
   "source": [
    "__We want to find the relationship between A and B__  \n",
    "(we know it is y=x)    \n",
    "__We should minimize the lose function by finding appropriate W and b__\n"
   ]
  },
  {
   "cell_type": "code",
   "execution_count": 4,
   "metadata": {
    "collapsed": true
   },
   "outputs": [],
   "source": [
    "loss = tf.reduce_mean(tf.square(hypothesis - y_train))"
   ]
  },
  {
   "cell_type": "markdown",
   "metadata": {},
   "source": [
    "### - Minimizing loss function: Gradient Descent\n",
    " - I used the Gradient Descent algorithm for minimizing loss function(optimizatio)"
   ]
  },
  {
   "cell_type": "code",
   "execution_count": 5,
   "metadata": {
    "collapsed": true
   },
   "outputs": [],
   "source": [
    "optimizer = tf.train.GradientDescentOptimizer(learning_rate=0.01)\n",
    "train = optimizer.minimize(loss)"
   ]
  },
  {
   "cell_type": "markdown",
   "metadata": {},
   "source": [
    "### -Running"
   ]
  },
  {
   "cell_type": "code",
   "execution_count": 7,
   "metadata": {
    "collapsed": false
   },
   "outputs": [
    {
     "name": "stdout",
     "output_type": "stream",
     "text": [
      "(0, 1.8356922, array([0.67880756], dtype=float32), array([0.7742961], dtype=float32))\n",
      "(100, 0.059683263, array([0.9241976], dtype=float32), array([0.5277226], dtype=float32))\n",
      "(200, 0.025722716, array([0.950236], dtype=float32), array([0.3464479], dtype=float32))\n",
      "(300, 0.011086153, array([0.96733016], dtype=float32), array([0.22744171], dtype=float32))\n",
      "(400, 0.004778001, array([0.97855234], dtype=float32), array([0.14931466], dtype=float32))\n",
      "(500, 0.0020592546, array([0.9859197], dtype=float32), array([0.09802452], dtype=float32))\n",
      "(600, 0.0008875099, array([0.99075633], dtype=float32), array([0.0643527], dtype=float32))\n",
      "(700, 0.00038250707, array([0.9939316], dtype=float32), array([0.04224737], dtype=float32))\n",
      "(800, 0.00016485437, array([0.99601614], dtype=float32), array([0.02773526], dtype=float32))\n",
      "(900, 7.104989e-05, array([0.9973846], dtype=float32), array([0.01820803], dtype=float32))\n",
      "(1000, 3.062217e-05, array([0.99828297], dtype=float32), array([0.01195351], dtype=float32))\n",
      "(1100, 1.31968645e-05, array([0.99887276], dtype=float32), array([0.00784741], dtype=float32))\n",
      "(1200, 5.687896e-06, array([0.99925995], dtype=float32), array([0.0051518], dtype=float32))\n",
      "(1300, 2.4518233e-06, array([0.9995142], dtype=float32), array([0.00338216], dtype=float32))\n",
      "(1400, 1.056548e-06, array([0.99968106], dtype=float32), array([0.00222039], dtype=float32))\n",
      "(1500, 4.554222e-07, array([0.9997906], dtype=float32), array([0.00145766], dtype=float32))\n",
      "(1600, 1.9628666e-07, array([0.99986255], dtype=float32), array([0.00095695], dtype=float32))\n",
      "(1700, 8.453871e-08, array([0.9999098], dtype=float32), array([0.00062821], dtype=float32))\n",
      "(1800, 3.6471505e-08, array([0.99994075], dtype=float32), array([0.00041241], dtype=float32))\n",
      "(1900, 1.5698955e-08, array([0.9999611], dtype=float32), array([0.00027073], dtype=float32))\n",
      "(2000, 6.7845307e-09, array([0.9999745], dtype=float32), array([0.00017773], dtype=float32))\n"
     ]
    }
   ],
   "source": [
    "sess = tf.Session()\n",
    "sess.run(tf.global_variables_initializer()) #Initialize global variables in the graph\n",
    "for step in range(2001):\n",
    "    sess.run(train)\n",
    "    if step % 100 == 0:\n",
    "        print(step, sess.run(loss), sess.run(W), sess.run(b))"
   ]
  },
  {
   "cell_type": "code",
   "execution_count": null,
   "metadata": {
    "collapsed": true
   },
   "outputs": [],
   "source": []
  }
 ],
 "metadata": {
  "kernelspec": {
   "display_name": "Python (tensorflow_",
   "language": "python",
   "name": "tensorflow"
  },
  "language_info": {
   "codemirror_mode": {
    "name": "ipython",
    "version": 2
   },
   "file_extension": ".py",
   "mimetype": "text/x-python",
   "name": "python",
   "nbconvert_exporter": "python",
   "pygments_lexer": "ipython2",
   "version": "2.7.13"
  }
 },
 "nbformat": 4,
 "nbformat_minor": 2
}
