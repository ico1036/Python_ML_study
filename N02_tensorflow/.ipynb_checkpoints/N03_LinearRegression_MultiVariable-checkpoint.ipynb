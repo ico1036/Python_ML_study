{
 "cells": [
  {
   "cell_type": "markdown",
   "metadata": {},
   "source": [
    "## Linear Regression: Multi variables"
   ]
  },
  {
   "cell_type": "code",
   "execution_count": 1,
   "metadata": {},
   "outputs": [],
   "source": [
    "import tensorflow as tf"
   ]
  },
  {
   "cell_type": "markdown",
   "metadata": {},
   "source": [
    " - #### We now use the matrix to deal with multiple variables  \n",
    " Therefore hypothesis is defined as following"
   ]
  },
  {
   "cell_type": "markdown",
   "metadata": {},
   "source": [
    "\\begin{gather}\n",
    " Hypothesis=\n",
    " \\begin{bmatrix} x_{11} & x_{12} & x_{13} \\\\ x_{21} & x_{22} & x_{33} \\\\ x_{31} & x_{32} & x_{33} \\\\ x_{41} & x_{42} & x_{43} \\\\ x_{51} & x_{52} & x_{53}\\end{bmatrix}\n",
    " \\times\n",
    "  \\begin{bmatrix}\n",
    "   W1 \\\\\n",
    "   W2 \\\\\n",
    "   W3 \n",
    "   \\end{bmatrix}\n",
    "   +b\n",
    "\\end{gather}\n",
    "  \n",
    " -  x_dataset : score1 score2 score3  --->  5 x 3 matrix\n",
    " -  y_dataset : Final score ---> 5 x 1 matrix"
   ]
  },
  {
   "cell_type": "code",
   "execution_count": 5,
   "metadata": {},
   "outputs": [],
   "source": [
    "x_data = [[73., 80., 75.], [93., 88., 93.],\n",
    "         [89., 91., 90.], [96., 98., 100.], [73., 66., 70.]]\n",
    "y_data = [[152.], [185.], [180.], [196.], [142.]]\n",
    "\n",
    "X = tf.placeholder(tf.float32, shape=[None, 3]) # N x 3 matrix\n",
    "Y = tf.placeholder(tf.float32, shape=[None, 1]) # N x 1 matrix\n",
    "\n",
    "W = tf.Variable(tf.random_normal([3, 1]), name='weight') # 3 x 1 matrix\n",
    "b = tf.Variable(tf.random_normal([1]), name='bias')           # 1 x 1 matrix\n",
    "\n",
    "# hypothesis, loss, optimizer\n",
    "hypothesis = tf.matmul(X,W) + b\n",
    "loss = tf.reduce_mean(tf.square(hypothesis - Y))\n",
    "optimizer = tf.train.GradientDescentOptimizer(learning_rate=1e-5)\n",
    "train = optimizer.minimize(loss)"
   ]
  },
  {
   "cell_type": "markdown",
   "metadata": {},
   "source": [
    " - Launch"
   ]
  },
  {
   "cell_type": "code",
   "execution_count": 7,
   "metadata": {},
   "outputs": [
    {
     "name": "stdout",
     "output_type": "stream",
     "text": [
      "(0, 'Loss: ', 284508.12, '\\nPrediction\\n', array([[-315.70914],\n",
      "       [-388.5198 ],\n",
      "       [-378.14127],\n",
      "       [-411.1911 ],\n",
      "       [-299.20428]], dtype=float32))\n",
      "(200, 'Loss: ', 22.005377, '\\nPrediction\\n', array([[157.18968],\n",
      "       [180.55193],\n",
      "       [182.22047],\n",
      "       [199.05939],\n",
      "       [134.99869]], dtype=float32))\n",
      "(400, 'Loss: ', 19.852732, '\\nPrediction\\n', array([[156.84776],\n",
      "       [180.78725],\n",
      "       [182.1169 ],\n",
      "       [198.97507],\n",
      "       [135.31544]], dtype=float32))\n",
      "(600, 'Loss: ', 17.920382, '\\nPrediction\\n', array([[156.5241 ],\n",
      "       [181.01009],\n",
      "       [182.01894],\n",
      "       [198.89485],\n",
      "       [135.61574]], dtype=float32))\n",
      "(800, 'Loss: ', 16.185575, '\\nPrediction\\n', array([[156.21771],\n",
      "       [181.2211 ],\n",
      "       [181.92624],\n",
      "       [198.81854],\n",
      "       [135.90048]], dtype=float32))\n",
      "(1000, 'Loss: ', 14.628281, '\\nPrediction\\n', array([[155.92769],\n",
      "       [181.42082],\n",
      "       [181.83855],\n",
      "       [198.74586],\n",
      "       [136.17041]], dtype=float32))\n",
      "(1200, 'Loss: ', 13.2300415, '\\nPrediction\\n', array([[155.65317],\n",
      "       [181.60995],\n",
      "       [181.75562],\n",
      "       [198.6767 ],\n",
      "       [136.42638]], dtype=float32))\n",
      "(1400, 'Loss: ', 11.974623, '\\nPrediction\\n', array([[155.39333],\n",
      "       [181.78902],\n",
      "       [181.67719],\n",
      "       [198.6108 ],\n",
      "       [136.66907]], dtype=float32))\n",
      "(1600, 'Loss: ', 10.847384, '\\nPrediction\\n', array([[155.1474 ],\n",
      "       [181.95853],\n",
      "       [181.603  ],\n",
      "       [198.54803],\n",
      "       [136.8992 ]], dtype=float32))\n",
      "(1800, 'Loss: ', 9.835057, '\\nPrediction\\n', array([[154.91464],\n",
      "       [182.119  ],\n",
      "       [181.53284],\n",
      "       [198.48822],\n",
      "       [137.11746]], dtype=float32))\n",
      "(2000, 'Loss: ', 8.926016, '\\nPrediction\\n', array([[154.69437],\n",
      "       [182.27092],\n",
      "       [181.4665 ],\n",
      "       [198.43123],\n",
      "       [137.32442]], dtype=float32))\n"
     ]
    }
   ],
   "source": [
    "sess = tf.Session()\n",
    "sess.run(tf.global_variables_initializer())\n",
    "\n",
    "for step in range(2001):\n",
    "    loss_val, hy_val, _ = sess.run(\n",
    "    [loss, hypothesis, train], feed_dict={X: x_data, Y: y_data})\n",
    "    if step % 200 ==0:\n",
    "        print(step, \"Loss: \", loss_val, \"\\nPrediction\\n\", hy_val)"
   ]
  },
  {
   "cell_type": "code",
   "execution_count": null,
   "metadata": {},
   "outputs": [],
   "source": []
  }
 ],
 "metadata": {
  "kernelspec": {
   "display_name": "Python 2",
   "language": "python",
   "name": "python2"
  },
  "language_info": {
   "codemirror_mode": {
    "name": "ipython",
    "version": 2
   },
   "file_extension": ".py",
   "mimetype": "text/x-python",
   "name": "python",
   "nbconvert_exporter": "python",
   "pygments_lexer": "ipython2",
   "version": "2.7.12"
  }
 },
 "nbformat": 4,
 "nbformat_minor": 2
}
