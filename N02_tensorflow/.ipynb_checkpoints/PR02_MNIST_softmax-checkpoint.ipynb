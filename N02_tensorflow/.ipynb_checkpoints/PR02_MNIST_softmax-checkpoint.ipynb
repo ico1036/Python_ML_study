{
 "cells": [
  {
   "cell_type": "code",
   "execution_count": 1,
   "metadata": {
    "collapsed": true
   },
   "outputs": [],
   "source": [
    "import tensorflow as tf\n",
    "import random\n",
    "import matplotlib.pyplot as plt"
   ]
  },
  {
   "cell_type": "code",
   "execution_count": 2,
   "metadata": {
    "collapsed": false
   },
   "outputs": [
    {
     "name": "stdout",
     "output_type": "stream",
     "text": [
      "Extracting MNIST_data/train-images-idx3-ubyte.gz\n",
      "Extracting MNIST_data/train-labels-idx1-ubyte.gz\n",
      "Extracting MNIST_data/t10k-images-idx3-ubyte.gz\n",
      "Extracting MNIST_data/t10k-labels-idx1-ubyte.gz\n"
     ]
    }
   ],
   "source": [
    "#Download MNIST tutorials in tensorflow\n",
    "from tensorflow.examples.tutorials.mnist import input_data\n",
    "mnist = input_data.read_data_sets(\"MNIST_data/\", one_hot=True)"
   ]
  },
  {
   "cell_type": "markdown",
   "metadata": {},
   "source": [
    " ### Set data shape"
   ]
  },
  {
   "cell_type": "code",
   "execution_count": 5,
   "metadata": {
    "collapsed": true
   },
   "outputs": [],
   "source": [
    "# We'll  classify 10 hand-written number images\n",
    "# Each image consists of 28x28 pixel\n",
    "nb_classes =10\n",
    "X = tf.placeholder(tf.float32, [None,784])\n",
    "Y = tf.placeholder(tf.float32, [None, nb_classes])\n",
    "W = tf.Variable(tf.random_normal([784,nb_classes]))\n",
    "b = tf.Variable(tf.random_normal([nb_classes]))"
   ]
  },
  {
   "cell_type": "markdown",
   "metadata": {},
   "source": [
    "### Hypothesis and loss"
   ]
  },
  {
   "cell_type": "code",
   "execution_count": 6,
   "metadata": {
    "collapsed": false
   },
   "outputs": [],
   "source": [
    "# Using softmax\n",
    "hypothesis = tf.nn.softmax(tf.matmul(X,W)+b)\n",
    "loss = tf.reduce_mean(-tf.reduce_sum(Y * tf.log(hypothesis), axis=1))\n",
    "optimizer = tf.train.GradientDescentOptimizer(learning_rate=0.1).minimize(loss)"
   ]
  },
  {
   "cell_type": "markdown",
   "metadata": {},
   "source": [
    "### Accuracy"
   ]
  },
  {
   "cell_type": "code",
   "execution_count": 7,
   "metadata": {
    "collapsed": true
   },
   "outputs": [],
   "source": [
    "is_correct = tf.equal(tf.arg_max(hypothesis, 1) , tf.arg_max(Y,1))\n",
    "accuracy = tf.reduce_mean(tf.cast(is_correct, tf.float32))"
   ]
  },
  {
   "cell_type": "markdown",
   "metadata": {},
   "source": [
    "### Launch graph"
   ]
  },
  {
   "cell_type": "code",
   "execution_count": 8,
   "metadata": {
    "collapsed": false
   },
   "outputs": [
    {
     "name": "stdout",
     "output_type": "stream",
     "text": [
      "('Epoch: ', '0001', 'loss = 2.781794542')\n",
      "('Epoch: ', '0002', 'loss = 1.101884352')\n",
      "('Epoch: ', '0003', 'loss = 0.873921933')\n",
      "('Epoch: ', '0004', 'loss = 0.765618637')\n",
      "('Epoch: ', '0005', 'loss = 0.698166605')\n",
      "('Epoch: ', '0006', 'loss = 0.651125175')\n",
      "('Epoch: ', '0007', 'loss = 0.614996884')\n",
      "('Epoch: ', '0008', 'loss = 0.586182863')\n",
      "('Epoch: ', '0009', 'loss = 0.562249652')\n",
      "('Epoch: ', '0010', 'loss = 0.541915181')\n",
      "('Epoch: ', '0011', 'loss = 0.525174712')\n",
      "('Epoch: ', '0012', 'loss = 0.510197857')\n",
      "('Epoch: ', '0013', 'loss = 0.496482576')\n",
      "('Epoch: ', '0014', 'loss = 0.484670342')\n",
      "('Epoch: ', '0015', 'loss = 0.474262560')\n",
      "Learning Finished\n",
      "('Accuracy: ', 0.8935)\n"
     ]
    }
   ],
   "source": [
    "training_epoch = 15\n",
    "batch_size = 100\n",
    "\n",
    "with tf.Session() as sess:\n",
    "    # Initialize TensorFlow variables\n",
    "    sess.run(tf.global_variables_initializer())\n",
    "    \n",
    "    # training epoch loop\n",
    "    for epoch in range(training_epoch):\n",
    "        avg_loss = 0\n",
    "        batch = int(mnist.train.num_examples / batch_size)\n",
    "        \n",
    "        # iteration for 1 epoch  \n",
    "        for i in range(batch):\n",
    "            batch_x, batch_y = mnist.train.next_batch(batch_size) # You need to embody this when you don't use the tutorial dataset\n",
    "            c, _ = sess.run([loss, optimizer], feed_dict={X: batch_x, Y:batch_y})\n",
    "            avg_loss += c / batch\n",
    "            \n",
    "        print('Epoch: ', '%04d' % (epoch+1), 'loss =' ' {:.9f}' .format(avg_loss))\n",
    "    print(\"Learning Finished\")\n",
    "    \n",
    "    # Test using test_samples \n",
    "    #  eval(session=sess) -> Dynamic session\n",
    "    print(\"Accuracy: \", accuracy.eval(session=sess, feed_dict={X: mnist.test.images, Y: mnist.test.labels}))\n",
    "    \n",
    "    \n",
    "    r = \n",
    "    "
   ]
  },
  {
   "cell_type": "code",
   "execution_count": null,
   "metadata": {
    "collapsed": true
   },
   "outputs": [],
   "source": []
  }
 ],
 "metadata": {
  "kernelspec": {
   "display_name": "Python (tensorflow_",
   "language": "python",
   "name": "tensorflow"
  },
  "language_info": {
   "codemirror_mode": {
    "name": "ipython",
    "version": 2
   },
   "file_extension": ".py",
   "mimetype": "text/x-python",
   "name": "python",
   "nbconvert_exporter": "python",
   "pygments_lexer": "ipython2",
   "version": "2.7.13"
  }
 },
 "nbformat": 4,
 "nbformat_minor": 2
}
