{
 "cells": [
  {
   "cell_type": "markdown",
   "metadata": {},
   "source": [
    "## Linear Regression"
   ]
  },
  {
   "cell_type": "code",
   "execution_count": 1,
   "metadata": {},
   "outputs": [],
   "source": [
    "import tensorflow as tf"
   ]
  },
  {
   "cell_type": "markdown",
   "metadata": {},
   "source": [
    "###  - Hypothesis funtion for linear regression: H(x) = Wx + b"
   ]
  },
  {
   "cell_type": "code",
   "execution_count": 2,
   "metadata": {},
   "outputs": [],
   "source": [
    "# Training dataset\n",
    "x_train = tf.placeholder(tf.float32)\n",
    "y_train = tf.placeholder(tf.float32)\n",
    "\n",
    "# Weight and bias\n",
    "W = tf.Variable(tf.random_normal([1]), name='weight')\n",
    "b = tf.Variable(tf.random_normal([1]), name='bias')\n",
    "\n",
    "# Hypotheis function\n",
    "hypothesis = x_train * W +b"
   ]
  },
  {
   "cell_type": "markdown",
   "metadata": {},
   "source": [
    "### - Loss function:  $$\\frac{1}{m} \\sum_{i=1}^m (H(x^i)-y^i)^2$$\n"
   ]
  },
  {
   "cell_type": "markdown",
   "metadata": {},
   "source": [
    "__We want to find the relationship between A and B__  \n",
    "(we know it is y=x)    \n",
    "__We should minimize the lose function by finding appropriate W and b__\n"
   ]
  },
  {
   "cell_type": "code",
   "execution_count": 3,
   "metadata": {},
   "outputs": [],
   "source": [
    "loss = tf.reduce_mean(tf.square(hypothesis - y_train))"
   ]
  },
  {
   "cell_type": "markdown",
   "metadata": {},
   "source": [
    "### - Minimizing loss function: Gradient Descent\n",
    " - I used the Gradient Descent algorithm for minimizing loss function(optimizatio)"
   ]
  },
  {
   "cell_type": "code",
   "execution_count": 4,
   "metadata": {},
   "outputs": [],
   "source": [
    "optimizer = tf.train.GradientDescentOptimizer(learning_rate=0.01)\n",
    "train = optimizer.minimize(loss)"
   ]
  },
  {
   "cell_type": "markdown",
   "metadata": {},
   "source": [
    "### -Running"
   ]
  },
  {
   "cell_type": "code",
   "execution_count": 9,
   "metadata": {},
   "outputs": [],
   "source": [
    "sess = tf.Session()\n",
    "sess.run(tf.global_variables_initializer()) #Initialize global variables in the graph\n"
   ]
  },
  {
   "cell_type": "code",
   "execution_count": 12,
   "metadata": {},
   "outputs": [
    {
     "name": "stdout",
     "output_type": "stream",
     "text": [
      "(0, 1.6179264e-06, array([0.9985227], dtype=float32), array([0.00335823], dtype=float32))\n",
      "(200, 6.1788234e-07, array([0.99908704], dtype=float32), array([0.00207532], dtype=float32))\n",
      "(400, 2.36039e-07, array([0.99943566], dtype=float32), array([0.0012827], dtype=float32))\n",
      "(600, 9.018536e-08, array([0.999651], dtype=float32), array([0.00079297], dtype=float32))\n",
      "(800, 3.4505415e-08, array([0.99978423], dtype=float32), array([0.00049047], dtype=float32))\n",
      "(1000, 1.321087e-08, array([0.9998664], dtype=float32), array([0.00030349], dtype=float32))\n",
      "(1200, 5.065241e-09, array([0.99991727], dtype=float32), array([0.00018792], dtype=float32))\n",
      "(1400, 1.9587862e-09, array([0.99994844], dtype=float32), array([0.00011666], dtype=float32))\n",
      "(1600, 7.463541e-10, array([0.9999681], dtype=float32), array([7.21974e-05], dtype=float32))\n",
      "(1800, 2.8956512e-10, array([0.9999804], dtype=float32), array([4.4958073e-05], dtype=float32))\n",
      "(2000, 1.0675194e-10, array([0.9999879], dtype=float32), array([2.7396944e-05], dtype=float32))\n"
     ]
    }
   ],
   "source": [
    "for step in range(2001):\n",
    "   loss_val, W_val, b_val, _ = sess.run([loss, W, b, train],\n",
    "                feed_dict={x_train: [1, 2, 3], y_train: [1, 2, 3]})\n",
    "   if step % 200 == 0:\n",
    "       print(step, loss_val, W_val, b_val)\n"
   ]
  },
  {
   "cell_type": "code",
   "execution_count": null,
   "metadata": {},
   "outputs": [],
   "source": []
  }
 ],
 "metadata": {
  "kernelspec": {
   "display_name": "Python 2",
   "language": "python",
   "name": "python2"
  },
  "language_info": {
   "codemirror_mode": {
    "name": "ipython",
    "version": 2
   },
   "file_extension": ".py",
   "mimetype": "text/x-python",
   "name": "python",
   "nbconvert_exporter": "python",
   "pygments_lexer": "ipython2",
   "version": "2.7.12"
  }
 },
 "nbformat": 4,
 "nbformat_minor": 2
}
