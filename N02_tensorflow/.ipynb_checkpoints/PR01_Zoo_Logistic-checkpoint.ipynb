{
 "cells": [
  {
   "cell_type": "code",
   "execution_count": 1,
   "metadata": {
    "collapsed": true
   },
   "outputs": [],
   "source": [
    "import tensorflow as tf\n",
    "import numpy as np"
   ]
  },
  {
   "cell_type": "code",
   "execution_count": 2,
   "metadata": {
    "collapsed": true
   },
   "outputs": [],
   "source": [
    "xy = np.loadtxt('zoo.csv', delimiter=',', dtype=np.float32)\n",
    "x_data = xy[:,0:-1]\n",
    "y_data = xy[:,[-1]]\n",
    "\n",
    "X = tf.placeholder(tf.float32,[None,16])\n",
    "Y = tf.placeholder(tf.int32, [None,1])\n",
    "\n",
    "nb_classes = 7\n",
    "\n",
    "#\n",
    "# one hot Encodeing-> It'll expand the dimension\n",
    "Y_one_hot = tf.one_hot(Y, nb_classes)\n",
    "\n",
    "# Fix the dimension: Tensor's last dimension with \"nb_classes\" number of values\n",
    "Y_one_hot = tf.reshape(Y_one_hot, [-1,nb_classes])"
   ]
  },
  {
   "cell_type": "code",
   "execution_count": 3,
   "metadata": {
    "collapsed": true
   },
   "outputs": [
    {
     "name": "stdout",
     "output_type": "stream",
     "text": [
      "[[1. 0. 0. 0. 0. 0. 0.]\n",
      " [1. 0. 0. 0. 0. 0. 0.]\n",
      " [0. 0. 0. 1. 0. 0. 0.]\n",
      " [1. 0. 0. 0. 0. 0. 0.]\n",
      " [1. 0. 0. 0. 0. 0. 0.]\n",
      " [1. 0. 0. 0. 0. 0. 0.]\n",
      " [1. 0. 0. 0. 0. 0. 0.]\n",
      " [0. 0. 0. 1. 0. 0. 0.]\n",
      " [0. 0. 0. 1. 0. 0. 0.]\n",
      " [1. 0. 0. 0. 0. 0. 0.]\n",
      " [1. 0. 0. 0. 0. 0. 0.]\n",
      " [0. 1. 0. 0. 0. 0. 0.]\n",
      " [0. 0. 0. 1. 0. 0. 0.]\n",
      " [0. 0. 0. 0. 0. 0. 1.]\n",
      " [0. 0. 0. 0. 0. 0. 1.]\n",
      " [0. 0. 0. 0. 0. 0. 1.]\n",
      " [0. 1. 0. 0. 0. 0. 0.]\n",
      " [1. 0. 0. 0. 0. 0. 0.]\n",
      " [0. 0. 0. 1. 0. 0. 0.]\n",
      " [1. 0. 0. 0. 0. 0. 0.]\n",
      " [0. 1. 0. 0. 0. 0. 0.]\n",
      " [0. 1. 0. 0. 0. 0. 0.]\n",
      " [1. 0. 0. 0. 0. 0. 0.]\n",
      " [0. 1. 0. 0. 0. 0. 0.]\n",
      " [0. 0. 0. 0. 0. 1. 0.]\n",
      " [0. 0. 0. 0. 1. 0. 0.]\n",
      " [0. 0. 0. 0. 1. 0. 0.]\n",
      " [1. 0. 0. 0. 0. 0. 0.]\n",
      " [1. 0. 0. 0. 0. 0. 0.]\n",
      " [1. 0. 0. 0. 0. 0. 0.]\n",
      " [0. 0. 0. 0. 0. 1. 0.]\n",
      " [1. 0. 0. 0. 0. 0. 0.]\n",
      " [1. 0. 0. 0. 0. 0. 0.]\n",
      " [0. 1. 0. 0. 0. 0. 0.]\n",
      " [0. 0. 0. 1. 0. 0. 0.]\n",
      " [1. 0. 0. 0. 0. 0. 0.]\n",
      " [1. 0. 0. 0. 0. 0. 0.]\n",
      " [0. 1. 0. 0. 0. 0. 0.]\n",
      " [0. 0. 0. 1. 0. 0. 0.]\n",
      " [0. 0. 0. 0. 0. 1. 0.]\n",
      " [0. 0. 0. 0. 0. 1. 0.]\n",
      " [0. 1. 0. 0. 0. 0. 0.]\n",
      " [0. 0. 0. 0. 0. 1. 0.]\n",
      " [0. 1. 0. 0. 0. 0. 0.]\n",
      " [1. 0. 0. 0. 0. 0. 0.]\n",
      " [1. 0. 0. 0. 0. 0. 0.]\n",
      " [0. 0. 0. 0. 0. 0. 1.]\n",
      " [1. 0. 0. 0. 0. 0. 0.]\n",
      " [1. 0. 0. 0. 0. 0. 0.]\n",
      " [1. 0. 0. 0. 0. 0. 0.]\n",
      " [1. 0. 0. 0. 0. 0. 0.]\n",
      " [0. 0. 0. 0. 0. 1. 0.]\n",
      " [0. 0. 0. 0. 1. 0. 0.]\n",
      " [0. 0. 0. 0. 0. 0. 1.]\n",
      " [1. 0. 0. 0. 0. 0. 0.]\n",
      " [1. 0. 0. 0. 0. 0. 0.]\n",
      " [0. 1. 0. 0. 0. 0. 0.]\n",
      " [0. 1. 0. 0. 0. 0. 0.]\n",
      " [0. 1. 0. 0. 0. 0. 0.]\n",
      " [0. 1. 0. 0. 0. 0. 0.]\n",
      " [0. 0. 0. 1. 0. 0. 0.]\n",
      " [0. 0. 0. 1. 0. 0. 0.]\n",
      " [0. 0. 1. 0. 0. 0. 0.]\n",
      " [1. 0. 0. 0. 0. 0. 0.]\n",
      " [1. 0. 0. 0. 0. 0. 0.]\n",
      " [1. 0. 0. 0. 0. 0. 0.]\n",
      " [1. 0. 0. 0. 0. 0. 0.]\n",
      " [1. 0. 0. 0. 0. 0. 0.]\n",
      " [1. 0. 0. 0. 0. 0. 0.]\n",
      " [1. 0. 0. 0. 0. 0. 0.]\n",
      " [1. 0. 0. 0. 0. 0. 0.]\n",
      " [0. 1. 0. 0. 0. 0. 0.]\n",
      " [0. 0. 0. 0. 0. 0. 1.]\n",
      " [0. 0. 0. 1. 0. 0. 0.]\n",
      " [1. 0. 0. 0. 0. 0. 0.]\n",
      " [1. 0. 0. 0. 0. 0. 0.]\n",
      " [0. 0. 1. 0. 0. 0. 0.]\n",
      " [0. 0. 0. 0. 0. 0. 1.]\n",
      " [0. 1. 0. 0. 0. 0. 0.]\n",
      " [0. 1. 0. 0. 0. 0. 0.]\n",
      " [0. 0. 1. 0. 0. 0. 0.]\n",
      " [0. 0. 0. 0. 0. 0. 1.]\n",
      " [0. 0. 0. 1. 0. 0. 0.]\n",
      " [0. 1. 0. 0. 0. 0. 0.]\n",
      " [1. 0. 0. 0. 0. 0. 0.]\n",
      " [0. 0. 0. 0. 0. 0. 1.]\n",
      " [0. 0. 0. 1. 0. 0. 0.]\n",
      " [0. 1. 0. 0. 0. 0. 0.]\n",
      " [0. 0. 0. 0. 0. 1. 0.]\n",
      " [0. 0. 0. 0. 1. 0. 0.]\n",
      " [0. 0. 1. 0. 0. 0. 0.]\n",
      " [0. 0. 1. 0. 0. 0. 0.]\n",
      " [0. 0. 0. 1. 0. 0. 0.]\n",
      " [1. 0. 0. 0. 0. 0. 0.]\n",
      " [1. 0. 0. 0. 0. 0. 0.]\n",
      " [0. 1. 0. 0. 0. 0. 0.]\n",
      " [1. 0. 0. 0. 0. 0. 0.]\n",
      " [0. 0. 0. 0. 0. 1. 0.]\n",
      " [1. 0. 0. 0. 0. 0. 0.]\n",
      " [0. 0. 0. 0. 0. 0. 1.]\n",
      " [0. 1. 0. 0. 0. 0. 0.]]\n"
     ]
    }
   ],
   "source": [
    "# Encoding results\n",
    "with tf.Session() as sess:\n",
    "    sess.run(tf.global_variables_initializer())\n",
    "    print(sess.run(Y_one_hot,feed_dict={X: x_data, Y: y_data}))"
   ]
  },
  {
   "cell_type": "code",
   "execution_count": 4,
   "metadata": {
    "collapsed": true
   },
   "outputs": [],
   "source": [
    "W = tf.Variable(tf.random_normal([16, nb_classes]), name='weight')\n",
    "b = tf.Variable(tf.random_normal([nb_classes]), name='bias')"
   ]
  },
  {
   "cell_type": "markdown",
   "metadata": {},
   "source": [
    "softmax-> sigmoid의 matrix 확장판이다.  \n",
    "이 함수를 통과한 모든 결과들은 0에서1 사이의 값을 가지고,  \n",
    "모든 결과를 더하면 1이 되는 '확률' 성질을 가진다  "
   ]
  },
  {
   "cell_type": "code",
   "execution_count": 5,
   "metadata": {
    "collapsed": true
   },
   "outputs": [],
   "source": [
    "logits = tf.matmul(X,W)+b\n",
    "hypothesis = tf.nn.softmax(logits)\n",
    "loss_i = tf.nn.softmax_cross_entropy_with_logits(logits=logits, labels = Y_one_hot)\n",
    "loss = tf.reduce_mean(loss_i)\n",
    "optimizer = tf.train.GradientDescentOptimizer(learning_rate=0.1).minimize(loss)"
   ]
  },
  {
   "cell_type": "markdown",
   "metadata": {},
   "source": [
    "softmax의 결과에다가 가장큰 값의 index를 반환하는 argmax를 한 것과,  \n",
    "onehot Encoding의 결과는 이론적으로 같게된다.  \n",
    "이걸 이용해서 정확도를 구한다."
   ]
  },
  {
   "cell_type": "code",
   "execution_count": 6,
   "metadata": {
    "collapsed": true
   },
   "outputs": [],
   "source": [
    "prediction = tf.argmax(hypothesis,1)\n",
    "correct_prediction = tf.equal(prediction, tf.argmax(Y_one_hot, 1))\n",
    "accuracy = tf.reduce_mean(tf.cast(correct_prediction, tf.float32))"
   ]
  },
  {
   "cell_type": "code",
   "execution_count": 7,
   "metadata": {
    "collapsed": false
   },
   "outputs": [
    {
     "name": "stdout",
     "output_type": "stream",
     "text": [
      "Step:     0\tLoss: 7.063\tAcc: 3.96%\n",
      "Step:   200\tLoss: 0.480\tAcc: 85.15%\n",
      "Step:   400\tLoss: 0.279\tAcc: 92.08%\n",
      "Step:   600\tLoss: 0.196\tAcc: 97.03%\n",
      "Step:   800\tLoss: 0.150\tAcc: 97.03%\n",
      "Step:  1000\tLoss: 0.120\tAcc: 99.01%\n",
      "Step:  1200\tLoss: 0.100\tAcc: 99.01%\n",
      "Step:  1400\tLoss: 0.086\tAcc: 100.00%\n",
      "Step:  1600\tLoss: 0.075\tAcc: 100.00%\n",
      "Step:  1800\tLoss: 0.066\tAcc: 100.00%\n",
      "Step:  2000\tLoss: 0.060\tAcc: 100.00%\n",
      "[True] prediction: 0 True Y: 0\n",
      "[True] prediction: 0 True Y: 0\n",
      "[True] prediction: 3 True Y: 3\n",
      "[True] prediction: 0 True Y: 0\n",
      "[True] prediction: 0 True Y: 0\n",
      "[True] prediction: 0 True Y: 0\n",
      "[True] prediction: 0 True Y: 0\n",
      "[True] prediction: 3 True Y: 3\n",
      "[True] prediction: 3 True Y: 3\n",
      "[True] prediction: 0 True Y: 0\n",
      "[True] prediction: 0 True Y: 0\n",
      "[True] prediction: 1 True Y: 1\n",
      "[True] prediction: 3 True Y: 3\n",
      "[True] prediction: 6 True Y: 6\n",
      "[True] prediction: 6 True Y: 6\n",
      "[True] prediction: 6 True Y: 6\n",
      "[True] prediction: 1 True Y: 1\n",
      "[True] prediction: 0 True Y: 0\n",
      "[True] prediction: 3 True Y: 3\n",
      "[True] prediction: 0 True Y: 0\n",
      "[True] prediction: 1 True Y: 1\n",
      "[True] prediction: 1 True Y: 1\n",
      "[True] prediction: 0 True Y: 0\n",
      "[True] prediction: 1 True Y: 1\n",
      "[True] prediction: 5 True Y: 5\n",
      "[True] prediction: 4 True Y: 4\n",
      "[True] prediction: 4 True Y: 4\n",
      "[True] prediction: 0 True Y: 0\n",
      "[True] prediction: 0 True Y: 0\n",
      "[True] prediction: 0 True Y: 0\n",
      "[True] prediction: 5 True Y: 5\n",
      "[True] prediction: 0 True Y: 0\n",
      "[True] prediction: 0 True Y: 0\n",
      "[True] prediction: 1 True Y: 1\n",
      "[True] prediction: 3 True Y: 3\n",
      "[True] prediction: 0 True Y: 0\n",
      "[True] prediction: 0 True Y: 0\n",
      "[True] prediction: 1 True Y: 1\n",
      "[True] prediction: 3 True Y: 3\n",
      "[True] prediction: 5 True Y: 5\n",
      "[True] prediction: 5 True Y: 5\n",
      "[True] prediction: 1 True Y: 1\n",
      "[True] prediction: 5 True Y: 5\n",
      "[True] prediction: 1 True Y: 1\n",
      "[True] prediction: 0 True Y: 0\n",
      "[True] prediction: 0 True Y: 0\n",
      "[True] prediction: 6 True Y: 6\n",
      "[True] prediction: 0 True Y: 0\n",
      "[True] prediction: 0 True Y: 0\n",
      "[True] prediction: 0 True Y: 0\n",
      "[True] prediction: 0 True Y: 0\n",
      "[True] prediction: 5 True Y: 5\n",
      "[True] prediction: 4 True Y: 4\n",
      "[True] prediction: 6 True Y: 6\n",
      "[True] prediction: 0 True Y: 0\n",
      "[True] prediction: 0 True Y: 0\n",
      "[True] prediction: 1 True Y: 1\n",
      "[True] prediction: 1 True Y: 1\n",
      "[True] prediction: 1 True Y: 1\n",
      "[True] prediction: 1 True Y: 1\n",
      "[True] prediction: 3 True Y: 3\n",
      "[True] prediction: 3 True Y: 3\n",
      "[True] prediction: 2 True Y: 2\n",
      "[True] prediction: 0 True Y: 0\n",
      "[True] prediction: 0 True Y: 0\n",
      "[True] prediction: 0 True Y: 0\n",
      "[True] prediction: 0 True Y: 0\n",
      "[True] prediction: 0 True Y: 0\n",
      "[True] prediction: 0 True Y: 0\n",
      "[True] prediction: 0 True Y: 0\n",
      "[True] prediction: 0 True Y: 0\n",
      "[True] prediction: 1 True Y: 1\n",
      "[True] prediction: 6 True Y: 6\n",
      "[True] prediction: 3 True Y: 3\n",
      "[True] prediction: 0 True Y: 0\n",
      "[True] prediction: 0 True Y: 0\n",
      "[True] prediction: 2 True Y: 2\n",
      "[True] prediction: 6 True Y: 6\n",
      "[True] prediction: 1 True Y: 1\n",
      "[True] prediction: 1 True Y: 1\n",
      "[True] prediction: 2 True Y: 2\n",
      "[True] prediction: 6 True Y: 6\n",
      "[True] prediction: 3 True Y: 3\n",
      "[True] prediction: 1 True Y: 1\n",
      "[True] prediction: 0 True Y: 0\n",
      "[True] prediction: 6 True Y: 6\n",
      "[True] prediction: 3 True Y: 3\n",
      "[True] prediction: 1 True Y: 1\n",
      "[True] prediction: 5 True Y: 5\n",
      "[True] prediction: 4 True Y: 4\n",
      "[True] prediction: 2 True Y: 2\n",
      "[True] prediction: 2 True Y: 2\n",
      "[True] prediction: 3 True Y: 3\n",
      "[True] prediction: 0 True Y: 0\n",
      "[True] prediction: 0 True Y: 0\n",
      "[True] prediction: 1 True Y: 1\n",
      "[True] prediction: 0 True Y: 0\n",
      "[True] prediction: 5 True Y: 5\n",
      "[True] prediction: 0 True Y: 0\n",
      "[True] prediction: 6 True Y: 6\n",
      "[True] prediction: 1 True Y: 1\n"
     ]
    }
   ],
   "source": [
    "with tf.Session() as  sess:\n",
    "    sess.run(tf.global_variables_initializer())\n",
    "    for step in range(2001):\n",
    "        sess.run(optimizer, feed_dict={X: x_data, Y: y_data})\n",
    "        if step % 200 == 0:\n",
    "            loss_val, acc_val = sess.run([loss,accuracy], feed_dict={X: x_data, Y: y_data})\n",
    "            print(\"Step: {:5}\\tLoss: {:.3f}\\tAcc: {:.2%}\".format(step, loss_val, acc_val))\n",
    "    \n",
    "    pred = sess.run(prediction, feed_dict={X: x_data})\n",
    "    for p,y in zip(pred, y_data.flatten()):\n",
    "        print(\"[{}] prediction: {} True Y: {}\". format(p == int(y), p, int(y)))"
   ]
  },
  {
   "cell_type": "code",
   "execution_count": null,
   "metadata": {
    "collapsed": true
   },
   "outputs": [],
   "source": []
  }
 ],
 "metadata": {
  "kernelspec": {
   "display_name": "Python (tensorflow_",
   "language": "python",
   "name": "tensorflow"
  },
  "language_info": {
   "codemirror_mode": {
    "name": "ipython",
    "version": 2
   },
   "file_extension": ".py",
   "mimetype": "text/x-python",
   "name": "python",
   "nbconvert_exporter": "python",
   "pygments_lexer": "ipython2",
   "version": "2.7.13"
  }
 },
 "nbformat": 4,
 "nbformat_minor": 2
}
