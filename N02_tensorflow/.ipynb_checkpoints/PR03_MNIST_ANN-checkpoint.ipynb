{
 "cells": [
  {
   "cell_type": "code",
   "execution_count": 1,
   "metadata": {
    "collapsed": false
   },
   "outputs": [],
   "source": [
    "import tensorflow  as tf\n",
    "import random\n",
    "from tensorflow.examples.tutorials.mnist import input_data"
   ]
  },
  {
   "cell_type": "code",
   "execution_count": 2,
   "metadata": {
    "collapsed": false
   },
   "outputs": [
    {
     "name": "stdout",
     "output_type": "stream",
     "text": [
      "Extracting MNIST_data/train-images-idx3-ubyte.gz\n",
      "Extracting MNIST_data/train-labels-idx1-ubyte.gz\n",
      "Extracting MNIST_data/t10k-images-idx3-ubyte.gz\n",
      "Extracting MNIST_data/t10k-labels-idx1-ubyte.gz\n"
     ]
    }
   ],
   "source": [
    "mnist = input_data.read_data_sets(\"MNIST_data/\", one_hot=True)"
   ]
  },
  {
   "cell_type": "code",
   "execution_count": 3,
   "metadata": {
    "collapsed": true
   },
   "outputs": [],
   "source": [
    "learning_rate = 0.001\n",
    "training_epochs = 15\n",
    "batch_size = 100"
   ]
  },
  {
   "cell_type": "code",
   "execution_count": 4,
   "metadata": {
    "collapsed": true
   },
   "outputs": [],
   "source": [
    "nb_classes =10\n",
    "X = tf.placeholder(tf.float32, [None, 784])\n",
    "Y = tf.placeholder(tf.float32,[None, nb_classes])"
   ]
  },
  {
   "cell_type": "code",
   "execution_count": 5,
   "metadata": {
    "collapsed": false
   },
   "outputs": [],
   "source": [
    "# Layer 1\n",
    "#W1 = tf.Variable(tf.random_normal([784,256]))\n",
    "W1 = tf.get_variable(\"W1\", shape=[784, 512],initializer=tf.contrib.layers.xavier_initializer()) # Xavier_Initializer\n",
    "b1 = tf.Variable(tf.random_normal([512]))\n",
    "L1 = tf.nn.relu(tf.matmul(X,W1)+b1)\n",
    "\n",
    "# Layer 2\n",
    "#W2 = tf.Variable(tf.random_normal([256,256]))\n",
    "W2 = tf.get_variable(\"W2\", shape=[512, 512],initializer=tf.contrib.layers.xavier_initializer()) # Xavier_Initializer\n",
    "b2 = tf.Variable(tf.random_normal([512]))\n",
    "L2 = tf.nn.relu(tf.matmul(L1,W2)+b2)\n",
    "\n",
    "# Layer 3\n",
    "#W3 = tf.Variable(tf.random_normal([256,256]))\n",
    "W3 = tf.get_variable(\"W3\", shape=[512, 512],initializer=tf.contrib.layers.xavier_initializer()) # Xavier_Initializer\n",
    "b3 = tf.Variable(tf.random_normal([512]))\n",
    "L3 = tf.nn.relu(tf.matmul(L2,W3)+b3)\n",
    "\n",
    "# Layer 4\n",
    "#W4 = tf.Variable(tf.random_normal([256,256]))\n",
    "W4 = tf.get_variable(\"W4\", shape=[512, 512],initializer=tf.contrib.layers.xavier_initializer()) # Xavier_Initializer\n",
    "b4 = tf.Variable(tf.random_normal([512]))\n",
    "L4 = tf.nn.relu(tf.matmul(L3,W4)+b4)\n",
    "\n",
    "# Layer 5\n",
    "#W5 = tf.Variable(tf.random_normal([256,nb_classes]))\n",
    "W5 = tf.get_variable(\"W5\", shape=[512, nb_classes],initializer=tf.contrib.layers.xavier_initializer()) # Xavier_Initializer\n",
    "b5 = tf.Variable(tf.random_normal([nb_classes]))\n",
    "hypothesis = tf.matmul(L4,W5)+b5\n"
   ]
  },
  {
   "cell_type": "code",
   "execution_count": 6,
   "metadata": {
    "collapsed": true
   },
   "outputs": [],
   "source": [
    "loss = tf.reduce_mean(tf.nn.softmax_cross_entropy_with_logits(logits=hypothesis, labels=Y))\n",
    "optimizer = tf.train.AdamOptimizer(learning_rate=learning_rate).minimize(loss)"
   ]
  },
  {
   "cell_type": "code",
   "execution_count": 8,
   "metadata": {
    "collapsed": false
   },
   "outputs": [
    {
     "name": "stdout",
     "output_type": "stream",
     "text": [
      "('Epoch:', '0001', 'cost =', '0.300443680')\n",
      "('Epoch:', '0002', 'cost =', '0.104510217')\n",
      "('Epoch:', '0003', 'cost =', '0.069850566')\n",
      "('Epoch:', '0004', 'cost =', '0.051230823')\n",
      "('Epoch:', '0005', 'cost =', '0.039552011')\n",
      "('Epoch:', '0006', 'cost =', '0.034304406')\n",
      "('Epoch:', '0007', 'cost =', '0.031607123')\n",
      "('Epoch:', '0008', 'cost =', '0.025632521')\n",
      "('Epoch:', '0009', 'cost =', '0.021718867')\n",
      "('Epoch:', '0010', 'cost =', '0.022267415')\n",
      "('Epoch:', '0011', 'cost =', '0.018274456')\n",
      "('Epoch:', '0012', 'cost =', '0.019383092')\n",
      "('Epoch:', '0013', 'cost =', '0.014655507')\n",
      "('Epoch:', '0014', 'cost =', '0.015478324')\n",
      "('Epoch:', '0015', 'cost =', '0.012939547')\n",
      "Learning finished\n",
      "('Accuracy:', 0.9801)\n"
     ]
    }
   ],
   "source": [
    "sess = tf.Session()\n",
    "sess.run(tf.global_variables_initializer())\n",
    "\n",
    "\n",
    "for epoch in range(training_epochs):\n",
    "    avg_loss=0\n",
    "    batch = int(mnist.train.num_examples / batch_size)\n",
    "    \n",
    "    for step in range(batch):\n",
    "        batch_x, batch_y = mnist.train.next_batch(batch_size)\n",
    "        feed_dict = {X: batch_x, Y: batch_y}\n",
    "    \n",
    "        c, _ = sess.run([loss,optimizer],feed_dict=feed_dict )\n",
    "        avg_loss += c / batch\n",
    "    print('Epoch:', '%04d' % (epoch+1), 'cost =', '{:.9f}'.format(avg_loss))\n",
    "print('Learning finished')\n",
    "\n",
    "\n",
    "# Test model and check acc\n",
    "correct_prediction = tf.equal(tf.argmax(hypothesis,1), tf.argmax(Y,1))\n",
    "accuracy = tf.reduce_mean(tf.cast(correct_prediction, tf.float32))\n",
    "print('Accuracy:', sess.run(accuracy, feed_dict={X: mnist.test.images, Y:mnist.test.labels}))\n",
    "\n"
   ]
  },
  {
   "cell_type": "code",
   "execution_count": null,
   "metadata": {
    "collapsed": true
   },
   "outputs": [],
   "source": []
  }
 ],
 "metadata": {
  "kernelspec": {
   "display_name": "Python (tensorflow_",
   "language": "python",
   "name": "tensorflow"
  },
  "language_info": {
   "codemirror_mode": {
    "name": "ipython",
    "version": 2
   },
   "file_extension": ".py",
   "mimetype": "text/x-python",
   "name": "python",
   "nbconvert_exporter": "python",
   "pygments_lexer": "ipython2",
   "version": "2.7.13"
  }
 },
 "nbformat": 4,
 "nbformat_minor": 2
}
