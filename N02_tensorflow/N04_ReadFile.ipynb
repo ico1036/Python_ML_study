{
 "cells": [
  {
   "cell_type": "markdown",
   "metadata": {},
   "source": [
    "## Loading data from file"
   ]
  },
  {
   "cell_type": "code",
   "execution_count": 2,
   "metadata": {},
   "outputs": [],
   "source": [
    "import numpy as np\n",
    "import tensorflow as tf"
   ]
  },
  {
   "cell_type": "markdown",
   "metadata": {},
   "source": [
    " - Loading text file as array and slicing it"
   ]
  },
  {
   "cell_type": "code",
   "execution_count": 3,
   "metadata": {},
   "outputs": [
    {
     "name": "stdout",
     "output_type": "stream",
     "text": [
      "((6, 3), array([[ 73.,  80.,  75.],\n",
      "       [ 93.,  88.,  93.],\n",
      "       [ 89.,  91.,  90.],\n",
      "       [ 96.,  98., 100.],\n",
      "       [ 73.,  66.,  70.],\n",
      "       [ 53.,  46.,  55.]], dtype=float32), 6)\n",
      "((6, 1), array([[152.],\n",
      "       [185.],\n",
      "       [180.],\n",
      "       [196.],\n",
      "       [142.],\n",
      "       [101.]], dtype=float32))\n"
     ]
    }
   ],
   "source": [
    "xy = np.loadtxt('data.csv', delimiter=',', dtype=np.float32)\n",
    "x_data = xy[:, 0:-1]\n",
    "y_data = xy[:, [-1]]\n",
    "\n",
    "print(x_data.shape, x_data, len(x_data)) \n",
    "print(y_data.shape, y_data)"
   ]
  },
  {
   "cell_type": "markdown",
   "metadata": {},
   "source": [
    " - Define weight, hypothesis, loss ..."
   ]
  },
  {
   "cell_type": "code",
   "execution_count": 4,
   "metadata": {},
   "outputs": [],
   "source": [
    "X = tf.placeholder(tf.float32, shape=[None, 3]) # N x 3 matrix\n",
    "Y = tf.placeholder(tf.float32, shape=[None, 1]) # N x 1 matrix\n",
    "\n",
    "W = tf.Variable(tf.random_normal([3, 1]), name='weight') # 3 x 1 matrix\n",
    "b = tf.Variable(tf.random_normal([1]), name='bias')           # 1 x 1 matrix\n",
    "\n",
    "# hypothesis, loss, optimizer\n",
    "hypothesis = tf.matmul(X,W) + b\n",
    "loss = tf.reduce_mean(tf.square(hypothesis - Y))\n",
    "optimizer = tf.train.GradientDescentOptimizer(learning_rate=1e-5)\n",
    "train = optimizer.minimize(loss)"
   ]
  },
  {
   "cell_type": "markdown",
   "metadata": {},
   "source": [
    " - Launch graph"
   ]
  },
  {
   "cell_type": "code",
   "execution_count": 7,
   "metadata": {},
   "outputs": [
    {
     "name": "stdout",
     "output_type": "stream",
     "text": [
      "(0, 'Loss: ', 9696.765, '\\nPrediction\\n', array([[59.66924 ],\n",
      "       [72.435036],\n",
      "       [70.99707 ],\n",
      "       [78.01344 ],\n",
      "       [54.734486],\n",
      "       [41.27551 ]], dtype=float32))\n",
      "(200, 'Loss: ', 2.9170654, '\\nPrediction\\n', array([[152.07751],\n",
      "       [183.5509 ],\n",
      "       [180.45773],\n",
      "       [197.20108],\n",
      "       [139.50992],\n",
      "       [103.74661]], dtype=float32))\n",
      "(400, 'Loss: ', 2.87979, '\\nPrediction\\n', array([[152.07137],\n",
      "       [183.55849],\n",
      "       [180.45897],\n",
      "       [197.18474],\n",
      "       [139.53397],\n",
      "       [103.73863]], dtype=float32))\n",
      "(600, 'Loss: ', 2.8431814, '\\nPrediction\\n', array([[152.06569],\n",
      "       [183.5658 ],\n",
      "       [180.46036],\n",
      "       [197.16864],\n",
      "       [139.55753],\n",
      "       [103.73029]], dtype=float32))\n",
      "(800, 'Loss: ', 2.807205, '\\nPrediction\\n', array([[152.0605 ],\n",
      "       [183.57286],\n",
      "       [180.46194],\n",
      "       [197.1528 ],\n",
      "       [139.58064],\n",
      "       [103.72162]], dtype=float32))\n",
      "(1000, 'Loss: ', 2.771845, '\\nPrediction\\n', array([[152.0557 ],\n",
      "       [183.57965],\n",
      "       [180.46362],\n",
      "       [197.13715],\n",
      "       [139.6033 ],\n",
      "       [103.71263]], dtype=float32))\n",
      "(1200, 'Loss: ', 2.7370713, '\\nPrediction\\n', array([[152.05135],\n",
      "       [183.58624],\n",
      "       [180.46548],\n",
      "       [197.12173],\n",
      "       [139.62558],\n",
      "       [103.70338]], dtype=float32))\n",
      "(1400, 'Loss: ', 2.7029228, '\\nPrediction\\n', array([[152.04732],\n",
      "       [183.59259],\n",
      "       [180.46745],\n",
      "       [197.10652],\n",
      "       [139.64742],\n",
      "       [103.69387]], dtype=float32))\n",
      "(1600, 'Loss: ', 2.6693058, '\\nPrediction\\n', array([[152.04369],\n",
      "       [183.59875],\n",
      "       [180.46956],\n",
      "       [197.09154],\n",
      "       [139.66891],\n",
      "       [103.68413]], dtype=float32))\n",
      "(1800, 'Loss: ', 2.6362503, '\\nPrediction\\n', array([[152.04039],\n",
      "       [183.60472],\n",
      "       [180.47176],\n",
      "       [197.07674],\n",
      "       [139.69005],\n",
      "       [103.67419]], dtype=float32))\n",
      "(2000, 'Loss: ', 2.6037185, '\\nPrediction\\n', array([[152.03737],\n",
      "       [183.61049],\n",
      "       [180.47403],\n",
      "       [197.06212],\n",
      "       [139.71085],\n",
      "       [103.66405]], dtype=float32))\n",
      "#############Training End##############\n"
     ]
    }
   ],
   "source": [
    "sess = tf.Session()\n",
    "sess.run(tf.global_variables_initializer())\n",
    "\n",
    "for step in range(2001):\n",
    "    loss_val, hy_val, _ = sess.run(\n",
    "    [loss, hypothesis, train], feed_dict={X: x_data, Y: y_data})\n",
    "    if step % 200 ==0:\n",
    "        print(step, \"Loss: \", loss_val, \"\\nPrediction\\n\", hy_val)\n",
    "print('#############Training End##############')"
   ]
  },
  {
   "cell_type": "markdown",
   "metadata": {},
   "source": [
    " - Ask my score"
   ]
  },
  {
   "cell_type": "code",
   "execution_count": 9,
   "metadata": {},
   "outputs": [
    {
     "name": "stdout",
     "output_type": "stream",
     "text": [
      "('Your score will be ', array([[183.9802]], dtype=float32))\n",
      "('Other socres will be ', array([[167.7687 ],\n",
      "       [177.94286]], dtype=float32))\n"
     ]
    }
   ],
   "source": [
    "print(\"Your score will be \", sess.run(hypothesis, feed_dict={X: [[100,70,101]]}))\n",
    "print(\"Other socres will be \", sess.run(hypothesis, feed_dict={X: [[60,70,110],[90,100,80]]}))"
   ]
  },
  {
   "cell_type": "code",
   "execution_count": null,
   "metadata": {},
   "outputs": [],
   "source": []
  }
 ],
 "metadata": {
  "kernelspec": {
   "display_name": "Python 2",
   "language": "python",
   "name": "python2"
  },
  "language_info": {
   "codemirror_mode": {
    "name": "ipython",
    "version": 2
   },
   "file_extension": ".py",
   "mimetype": "text/x-python",
   "name": "python",
   "nbconvert_exporter": "python",
   "pygments_lexer": "ipython2",
   "version": "2.7.12"
  }
 },
 "nbformat": 4,
 "nbformat_minor": 2
}
