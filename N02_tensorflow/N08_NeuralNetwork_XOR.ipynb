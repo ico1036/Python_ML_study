{
 "cells": [
  {
   "cell_type": "markdown",
   "metadata": {},
   "source": [
    "## Nerual Network: XOR problem"
   ]
  },
  {
   "cell_type": "code",
   "execution_count": 1,
   "metadata": {
    "collapsed": false
   },
   "outputs": [],
   "source": [
    "import tensorflow as tf\n",
    "import numpy as np\n",
    "\n",
    "x_data = np.array([[0,0],[0,1],[1,0],[1,1]])\n",
    "y_data = np.array([[0],[1],[1],[0]])\n",
    "X = tf.placeholder(tf.float32)\n",
    "Y = tf.placeholder(tf.float32)"
   ]
  },
  {
   "cell_type": "code",
   "execution_count": 2,
   "metadata": {
    "collapsed": true
   },
   "outputs": [],
   "source": [
    "# First layer\n",
    "W1 = tf.Variable(tf.random_normal([2,2]), name='weight1')\n",
    "b1  = tf.Variable(tf.random_normal([2]),name='bias1')\n",
    "layer1 = tf.sigmoid(tf.matmul(X,W1)+b1)"
   ]
  },
  {
   "cell_type": "markdown",
   "metadata": {},
   "source": [
    "__x ----- (w1,b1)--s--(w2,b2)--s--y__   \n",
    "Actually, the first node is sum of different nodes.  \n",
    "  \n",
    "__W(# of features, # of the first nodes)__: This is __matrix__   \n",
    "You can expand the second terms. Thie expansion is called __wide expansion__  \n",
    "Threrfore W(2,2) means 2 nodes 2 input data(x) features\n",
    "__b(2,)__ means b is __vector__ which has two values  "
   ]
  },
  {
   "cell_type": "code",
   "execution_count": 3,
   "metadata": {
    "collapsed": false
   },
   "outputs": [],
   "source": [
    "# Second layer\n",
    "W2 = tf.Variable(tf.random_normal([2,1]), name='weight2')\n",
    "b2 = tf.Variable(tf.random_normal([1]), name='bias2')\n",
    "hypothesis = tf.sigmoid(tf.matmul(layer1,W2)+b2)"
   ]
  },
  {
   "cell_type": "code",
   "execution_count": 4,
   "metadata": {
    "collapsed": true
   },
   "outputs": [],
   "source": [
    "# Loss and train\n",
    "loss = -tf.reduce_mean(Y * tf.log(hypothesis) + (1-Y) * tf.log(1-hypothesis))\n",
    "train = tf.train.GradientDescentOptimizer(learning_rate=0.1).minimize(loss)"
   ]
  },
  {
   "cell_type": "code",
   "execution_count": 5,
   "metadata": {
    "collapsed": true
   },
   "outputs": [],
   "source": [
    "# Prediction and Accuracy\n",
    "predicted = tf.cast(hypothesis > 0.5, dtype=tf.float32)\n",
    "accuracy = tf.reduce_mean(tf.cast(tf.equal(predicted,Y),dtype=tf.float32))"
   ]
  },
  {
   "cell_type": "code",
   "execution_count": 7,
   "metadata": {
    "collapsed": false
   },
   "outputs": [
    {
     "name": "stdout",
     "output_type": "stream",
     "text": [
      "Step:     0\tLoss: 0.699\tAcc: 75.00%\n",
      "Step:   500\tLoss: 0.692\tAcc: 50.00%\n",
      "Step:  1000\tLoss: 0.689\tAcc: 75.00%\n",
      "Step:  1500\tLoss: 0.685\tAcc: 75.00%\n",
      "Step:  2000\tLoss: 0.677\tAcc: 75.00%\n",
      "Step:  2500\tLoss: 0.664\tAcc: 75.00%\n",
      "Step:  3000\tLoss: 0.642\tAcc: 75.00%\n",
      "Step:  3500\tLoss: 0.614\tAcc: 75.00%\n",
      "Step:  4000\tLoss: 0.585\tAcc: 75.00%\n",
      "Step:  4500\tLoss: 0.553\tAcc: 75.00%\n",
      "Step:  5000\tLoss: 0.483\tAcc: 75.00%\n",
      "Step:  5500\tLoss: 0.334\tAcc: 100.00%\n",
      "Step:  6000\tLoss: 0.216\tAcc: 100.00%\n",
      "Step:  6500\tLoss: 0.152\tAcc: 100.00%\n",
      "Step:  7000\tLoss: 0.115\tAcc: 100.00%\n",
      "Step:  7500\tLoss: 0.091\tAcc: 100.00%\n",
      "Step:  8000\tLoss: 0.075\tAcc: 100.00%\n",
      "Step:  8500\tLoss: 0.063\tAcc: 100.00%\n",
      "Step:  9000\tLoss: 0.055\tAcc: 100.00%\n",
      "Step:  9500\tLoss: 0.048\tAcc: 100.00%\n",
      "Step: 10000\tLoss: 0.043\tAcc: 100.00%\n",
      "[0. 1. 1. 0.]\n"
     ]
    }
   ],
   "source": [
    "# Launch graph\n",
    "with tf.Session() as sess:\n",
    "    # Initialize variables\n",
    "    sess.run(tf.global_variables_initializer())\n",
    "    for step in range(10050):\n",
    "        sess.run(train, feed_dict={X: x_data, Y: y_data})\n",
    "        if step%500 == 0:\n",
    "            loss_val, acc_val = sess.run([loss,accuracy], feed_dict={X: x_data, Y: y_data})\n",
    "            print(\"Step: {:5}\\tLoss: {:.3f}\\tAcc: {:.2%}\".format(step, loss_val, acc_val))   \n",
    "    \n",
    "    pre = sess.run(predicted, feed_dict={X: x_data, Y: y_data})  \n",
    "    print(pre.flatten())\n",
    "            "
   ]
  },
  {
   "cell_type": "code",
   "execution_count": null,
   "metadata": {
    "collapsed": true
   },
   "outputs": [],
   "source": []
  }
 ],
 "metadata": {
  "kernelspec": {
   "display_name": "Python (tensorflow_",
   "language": "python",
   "name": "tensorflow"
  },
  "language_info": {
   "codemirror_mode": {
    "name": "ipython",
    "version": 2
   },
   "file_extension": ".py",
   "mimetype": "text/x-python",
   "name": "python",
   "nbconvert_exporter": "python",
   "pygments_lexer": "ipython2",
   "version": "2.7.13"
  }
 },
 "nbformat": 4,
 "nbformat_minor": 2
}
