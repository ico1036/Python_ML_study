{
 "cells": [
  {
   "cell_type": "code",
   "execution_count": 2,
   "metadata": {},
   "outputs": [
    {
     "name": "stdout",
     "output_type": "stream",
     "text": [
      "Collecting keras\n",
      "\u001b[?25l  Downloading https://files.pythonhosted.org/packages/5e/10/aa32dad071ce52b5502266b5c659451cfd6ffcbf14e6c8c4f16c0ff5aaab/Keras-2.2.4-py2.py3-none-any.whl (312kB)\n",
      "\u001b[K     |████████████████████████████████| 317kB 520kB/s \n",
      "\u001b[?25hCollecting scipy>=0.14 (from keras)\n",
      "\u001b[?25l  Downloading https://files.pythonhosted.org/packages/72/4c/5f81e7264b0a7a8bd570810f48cd346ba36faedbd2ba255c873ad556de76/scipy-1.3.0-cp36-cp36m-manylinux1_x86_64.whl (25.2MB)\n",
      "\u001b[K     |████████████████████████████████| 25.2MB 565kB/s \n",
      "\u001b[?25hRequirement already satisfied: h5py in /home/jkim/anaconda2/envs/py3/lib/python3.6/site-packages (from keras) (2.9.0)\n",
      "Requirement already satisfied: keras-preprocessing>=1.0.5 in /home/jkim/anaconda2/envs/py3/lib/python3.6/site-packages (from keras) (1.0.9)\n",
      "Collecting pyyaml (from keras)\n",
      "\u001b[?25l  Downloading https://files.pythonhosted.org/packages/a3/65/837fefac7475963d1eccf4aa684c23b95aa6c1d033a2c5965ccb11e22623/PyYAML-5.1.1.tar.gz (274kB)\n",
      "\u001b[K     |████████████████████████████████| 276kB 643kB/s \n",
      "\u001b[?25hRequirement already satisfied: keras-applications>=1.0.6 in /home/jkim/anaconda2/envs/py3/lib/python3.6/site-packages (from keras) (1.0.7)\n",
      "Requirement already satisfied: numpy>=1.9.1 in /home/jkim/anaconda2/envs/py3/lib/python3.6/site-packages (from keras) (1.16.3)\n",
      "Requirement already satisfied: six>=1.9.0 in /home/jkim/anaconda2/envs/py3/lib/python3.6/site-packages (from keras) (1.12.0)\n",
      "Building wheels for collected packages: pyyaml\n",
      "  Building wheel for pyyaml (setup.py) ... \u001b[?25ldone\n",
      "\u001b[?25h  Stored in directory: /home/jkim/.cache/pip/wheels/16/27/a1/775c62ddea7bfa62324fd1f65847ed31c55dadb6051481ba3f\n",
      "Successfully built pyyaml\n",
      "Installing collected packages: scipy, pyyaml, keras\n",
      "Successfully installed keras-2.2.4 pyyaml-5.1.1 scipy-1.3.0\n"
     ]
    }
   ],
   "source": [
    "!pip install keras"
   ]
  },
  {
   "cell_type": "code",
   "execution_count": 1,
   "metadata": {},
   "outputs": [
    {
     "name": "stderr",
     "output_type": "stream",
     "text": [
      "Using TensorFlow backend.\n"
     ]
    }
   ],
   "source": [
    "from keras.datasets import imdb\n",
    "import numpy as np"
   ]
  },
  {
   "cell_type": "code",
   "execution_count": 2,
   "metadata": {},
   "outputs": [],
   "source": [
    "np_load_old = np.load\n",
    "np.load = lambda *a,**k: np_load_old(*a, allow_pickle=True, **k)\n",
    "(train_data, train_labels), (test_data, test_labels) = imdb.load_data(num_words=10000)\n",
    "np.load = np_load_old"
   ]
  },
  {
   "cell_type": "markdown",
   "metadata": {},
   "source": [
    "### Dataset의 shape 과 어떻게 구성되었는지"
   ]
  },
  {
   "cell_type": "code",
   "execution_count": 3,
   "metadata": {},
   "outputs": [
    {
     "data": {
      "text/plain": [
       "(25000,)"
      ]
     },
     "execution_count": 3,
     "metadata": {},
     "output_type": "execute_result"
    }
   ],
   "source": [
    "train_data.shape"
   ]
  },
  {
   "cell_type": "code",
   "execution_count": 4,
   "metadata": {},
   "outputs": [
    {
     "name": "stdout",
     "output_type": "stream",
     "text": [
      ". this film was just brilliant casting location scenery story direction everyone's really suited the part they played and you could just imagine being there robert . is an amazing actor and now the same being director . father came from the same scottish island as myself so i loved the fact there was a real connection with this film the witty remarks throughout the film were great it was just brilliant so much that i bought the film as soon as it was released for . and would recommend it to everyone to watch and the fly fishing was amazing really cried at the end it was so sad and you know what they say if you cry at a film it must have been good and this definitely was also . to the two little boy's that played the . of norman and paul they were just brilliant children are often left out of the . list i think because the stars that play them all grown up are such a big profile for the whole film but these children are amazing and should be praised for what they have done don't you think the whole story was so lovely because it was true and was someone's life after all that was shared with us all\n"
     ]
    }
   ],
   "source": [
    "word_index = imdb.get_word_index()\n",
    "reverse_word_index = dict(\n",
    "    [(value,key) for (key,value) in word_index.items()])\n",
    "decoded_review =' '.join([reverse_word_index.get(i-3,\".\") for i in train_data[0]])\n",
    "print(decoded_review)"
   ]
  },
  {
   "cell_type": "markdown",
   "metadata": {},
   "source": [
    "### Training data 준비"
   ]
  },
  {
   "cell_type": "code",
   "execution_count": 5,
   "metadata": {},
   "outputs": [],
   "source": [
    "def vectorize_sequences(sequences, dimension=10000):\n",
    "    results = np.zeros((len(sequences), dimension))\n",
    "    for i, sequence in enumerate(sequences):\n",
    "        results[i, sequence] =1.\n",
    "        \n",
    "    return results\n",
    "x_train = vectorize_sequences(train_data)\n",
    "y_train =  vectorize_sequences(test_data)"
   ]
  },
  {
   "cell_type": "code",
   "execution_count": 6,
   "metadata": {},
   "outputs": [
    {
     "data": {
      "text/plain": [
       "(25000, 10000)"
      ]
     },
     "execution_count": 6,
     "metadata": {},
     "output_type": "execute_result"
    }
   ],
   "source": [
    "x_train.shape"
   ]
  },
  {
   "cell_type": "code",
   "execution_count": 7,
   "metadata": {},
   "outputs": [],
   "source": [
    "y_train = np.asarray(train_labels).astype('float32')\n",
    "y_test  = np.asarray(test_labels).astype('float32')"
   ]
  },
  {
   "cell_type": "markdown",
   "metadata": {},
   "source": [
    "## Model"
   ]
  },
  {
   "cell_type": "code",
   "execution_count": 8,
   "metadata": {},
   "outputs": [],
   "source": [
    "from keras import models\n",
    "from keras import layers"
   ]
  },
  {
   "cell_type": "code",
   "execution_count": 9,
   "metadata": {},
   "outputs": [
    {
     "name": "stdout",
     "output_type": "stream",
     "text": [
      "WARNING:tensorflow:From /home/jkim/anaconda2/envs/py3/lib/python3.6/site-packages/tensorflow/python/framework/op_def_library.py:263: colocate_with (from tensorflow.python.framework.ops) is deprecated and will be removed in a future version.\n",
      "Instructions for updating:\n",
      "Colocations handled automatically by placer.\n"
     ]
    }
   ],
   "source": [
    "model = models.Sequential()\n",
    "model.add(layers.Dense(16, activation='relu', input_shape=(10000,)))\n",
    "model.add(layers.Dense(16, activation='relu'))\n",
    "model.add(layers.Dense(1, activation='sigmoid'))"
   ]
  },
  {
   "cell_type": "code",
   "execution_count": 15,
   "metadata": {},
   "outputs": [],
   "source": [
    "from keras import optimizers\n",
    "from keras import losses\n",
    "from keras import metrics\n",
    "\n",
    "\n",
    "model.compile(optimizer=optimizers.RMSprop(lr=0.001),\n",
    "             loss=losses.binary_crossentropy,\n",
    "             metrics=[metrics.binary_accuracy])"
   ]
  },
  {
   "cell_type": "markdown",
   "metadata": {},
   "source": [
    "### Validation Sample"
   ]
  },
  {
   "cell_type": "code",
   "execution_count": 17,
   "metadata": {},
   "outputs": [],
   "source": [
    "x_val = x_train[:10000]\n",
    "partial_x_train = x_train[10000:]\n",
    "y_val = y_train[:10000]\n",
    "partial_y_train = y_train[10000:]"
   ]
  },
  {
   "cell_type": "markdown",
   "metadata": {},
   "source": [
    "### Run"
   ]
  },
  {
   "cell_type": "code",
   "execution_count": 18,
   "metadata": {},
   "outputs": [
    {
     "name": "stdout",
     "output_type": "stream",
     "text": [
      "WARNING:tensorflow:From /home/jkim/anaconda2/envs/py3/lib/python3.6/site-packages/tensorflow/python/ops/math_ops.py:3066: to_int32 (from tensorflow.python.ops.math_ops) is deprecated and will be removed in a future version.\n",
      "Instructions for updating:\n",
      "Use tf.cast instead.\n",
      "Train on 15000 samples, validate on 10000 samples\n",
      "Epoch 1/20\n",
      "15000/15000 [==============================] - 2s 106us/step - loss: 0.5085 - binary_accuracy: 0.7818 - val_loss: 0.3798 - val_binary_accuracy: 0.8687\n",
      "Epoch 2/20\n",
      "15000/15000 [==============================] - 1s 55us/step - loss: 0.3004 - binary_accuracy: 0.9043 - val_loss: 0.3002 - val_binary_accuracy: 0.8900\n",
      "Epoch 3/20\n",
      "15000/15000 [==============================] - 1s 52us/step - loss: 0.2178 - binary_accuracy: 0.9281 - val_loss: 0.3080 - val_binary_accuracy: 0.8717\n",
      "Epoch 4/20\n",
      "15000/15000 [==============================] - 1s 49us/step - loss: 0.1750 - binary_accuracy: 0.9435 - val_loss: 0.2841 - val_binary_accuracy: 0.8838\n",
      "Epoch 5/20\n",
      "15000/15000 [==============================] - 1s 53us/step - loss: 0.1426 - binary_accuracy: 0.9544 - val_loss: 0.2849 - val_binary_accuracy: 0.8865\n",
      "Epoch 6/20\n",
      "15000/15000 [==============================] - 1s 51us/step - loss: 0.1150 - binary_accuracy: 0.9651 - val_loss: 0.3146 - val_binary_accuracy: 0.8775\n",
      "Epoch 7/20\n",
      "15000/15000 [==============================] - 1s 51us/step - loss: 0.0978 - binary_accuracy: 0.9707 - val_loss: 0.3127 - val_binary_accuracy: 0.8848\n",
      "Epoch 8/20\n",
      "15000/15000 [==============================] - 1s 49us/step - loss: 0.0806 - binary_accuracy: 0.9765 - val_loss: 0.3848 - val_binary_accuracy: 0.8661\n",
      "Epoch 9/20\n",
      "15000/15000 [==============================] - 1s 50us/step - loss: 0.0659 - binary_accuracy: 0.9820 - val_loss: 0.3632 - val_binary_accuracy: 0.8780\n",
      "Epoch 10/20\n",
      "15000/15000 [==============================] - 1s 50us/step - loss: 0.0553 - binary_accuracy: 0.9854 - val_loss: 0.3844 - val_binary_accuracy: 0.8790\n",
      "Epoch 11/20\n",
      "15000/15000 [==============================] - 1s 51us/step - loss: 0.0452 - binary_accuracy: 0.9889 - val_loss: 0.4167 - val_binary_accuracy: 0.8764\n",
      "Epoch 12/20\n",
      "15000/15000 [==============================] - 1s 49us/step - loss: 0.0383 - binary_accuracy: 0.9913 - val_loss: 0.4505 - val_binary_accuracy: 0.8702\n",
      "Epoch 13/20\n",
      "15000/15000 [==============================] - 1s 50us/step - loss: 0.0296 - binary_accuracy: 0.9932 - val_loss: 0.4702 - val_binary_accuracy: 0.8731\n",
      "Epoch 14/20\n",
      "15000/15000 [==============================] - 1s 58us/step - loss: 0.0242 - binary_accuracy: 0.9949 - val_loss: 0.5025 - val_binary_accuracy: 0.8722\n",
      "Epoch 15/20\n",
      "15000/15000 [==============================] - 1s 54us/step - loss: 0.0177 - binary_accuracy: 0.9978 - val_loss: 0.5345 - val_binary_accuracy: 0.8695\n",
      "Epoch 16/20\n",
      "15000/15000 [==============================] - 1s 51us/step - loss: 0.0166 - binary_accuracy: 0.9971 - val_loss: 0.5719 - val_binary_accuracy: 0.8700\n",
      "Epoch 17/20\n",
      "15000/15000 [==============================] - 1s 53us/step - loss: 0.0095 - binary_accuracy: 0.9993 - val_loss: 0.6445 - val_binary_accuracy: 0.8600\n",
      "Epoch 18/20\n",
      "15000/15000 [==============================] - 1s 51us/step - loss: 0.0124 - binary_accuracy: 0.9981 - val_loss: 0.6423 - val_binary_accuracy: 0.8669\n",
      "Epoch 19/20\n",
      "15000/15000 [==============================] - 1s 51us/step - loss: 0.0052 - binary_accuracy: 0.9999 - val_loss: 0.6935 - val_binary_accuracy: 0.8624\n",
      "Epoch 20/20\n",
      "15000/15000 [==============================] - 1s 51us/step - loss: 0.0086 - binary_accuracy: 0.9980 - val_loss: 0.7052 - val_binary_accuracy: 0.8657\n"
     ]
    }
   ],
   "source": [
    "history = model.fit(partial_x_train,\n",
    "                   partial_y_train,\n",
    "                   epochs=20,\n",
    "                   batch_size=512,\n",
    "                   validation_data=(x_val, y_val))"
   ]
  },
  {
   "cell_type": "code",
   "execution_count": null,
   "metadata": {},
   "outputs": [],
   "source": []
  }
 ],
 "metadata": {
  "kernelspec": {
   "display_name": "Python 3",
   "language": "python",
   "name": "python3"
  },
  "language_info": {
   "codemirror_mode": {
    "name": "ipython",
    "version": 3
   },
   "file_extension": ".py",
   "mimetype": "text/x-python",
   "name": "python",
   "nbconvert_exporter": "python",
   "pygments_lexer": "ipython3",
   "version": "3.6.2"
  }
 },
 "nbformat": 4,
 "nbformat_minor": 2
}
