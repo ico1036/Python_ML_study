{
 "cells": [
  {
   "cell_type": "code",
   "execution_count": 1,
   "metadata": {
    "collapsed": false
   },
   "outputs": [
    {
     "name": "stderr",
     "output_type": "stream",
     "text": [
      "/home/jkim/ROOT/root-6.04.18/lib/ROOT.py:415: UserWarning: \"from ROOT import *\" is not supported under IPython\n",
      "  warnings.warn( '\"from ROOT import *\" is not supported under IPython' )\n"
     ]
    }
   ],
   "source": [
    "import pandas as pd\n",
    "import matplotlib.pyplot as plt\n",
    "from ROOT import *\n",
    "from root_numpy import root2array, tree2array\n",
    "from root_numpy import testdata\n",
    "from IPython.display import display\n"
   ]
  },
  {
   "cell_type": "code",
   "execution_count": 2,
   "metadata": {
    "collapsed": false
   },
   "outputs": [],
   "source": [
    "# read signal dataset\n",
    "sig_file = TFile.Open('signal.root') \n",
    "sig_tree = sig_file.Get('tree')   \n",
    "sig_arr  = tree2array(sig_tree)\t\n",
    "sig_df   = pd.DataFrame(sig_arr)\t\n",
    "sig_df.to_csv('data.csv', mode='w',header=False)\n",
    "\n",
    "#read background dataset\n",
    "bkg_file = TFile.Open('background.root') \n",
    "bkg_tree = bkg_file.Get('tree')   \n",
    "bkg_arr  = tree2array(bkg_tree)\t\n",
    "bkg_df   = pd.DataFrame(bkg_arr)\t\n",
    "bkg_df.to_csv('data.csv', mode='a',header=False)"
   ]
  },
  {
   "cell_type": "code",
   "execution_count": null,
   "metadata": {
    "collapsed": true
   },
   "outputs": [],
   "source": [
    "display(sig_df)\n",
    "display(bkg_df)"
   ]
  },
  {
   "cell_type": "code",
   "execution_count": null,
   "metadata": {
    "collapsed": false
   },
   "outputs": [],
   "source": [
    "new_df = test_df.filter(['Feature1'],axis=1)\n",
    "display(new_df)"
   ]
  },
  {
   "cell_type": "code",
   "execution_count": 3,
   "metadata": {
    "collapsed": false
   },
   "outputs": [
    {
     "data": {
      "image/png": "[encoded data removed]",
      "text/plain": [
       "<matplotlib.figure.Figure at 0x7f3a4c3a88d0>"
      ]
     },
     "metadata": {},
     "output_type": "display_data"
    }
   ],
   "source": [
    "n_bins= 100\n",
    "fig,axs = plt.subplots(1,3, figsize=(18,6))\n",
    "\n",
    "axs[0].hist(sig_df['Feature1'],bins=n_bins,alpha=0.7,color='r')\n",
    "axs[0].hist(bkg_df['Feature1'],bins=n_bins,alpha=0.7)\n",
    "axs[0].set_title('Feature1')\n",
    "axs[0].legend(['Signal','background'])\n",
    "\n",
    "axs[1].hist(sig_df['Feature2'],bins=n_bins,alpha=0.7,color='r',)\n",
    "axs[1].hist(bkg_df['Feature2'],bins=n_bins,alpha=0.7)\n",
    "axs[1].set_title('Feature2')\n",
    "axs[1].legend(['Signal','background'])\n",
    "\n",
    "\n",
    "axs[2].hist(sig_df['Feature3'],bins=n_bins,alpha=0.7,color='r',)\n",
    "axs[2].hist(bkg_df['Feature3'],bins=n_bins,alpha=0.7)\n",
    "axs[2].set_title('Feature3')\n",
    "axs[2].legend(['Signal','background'])\n",
    "\n",
    "\n",
    "plt.show()"
   ]
  },
  {
   "cell_type": "code",
   "execution_count": null,
   "metadata": {
    "collapsed": true
   },
   "outputs": [],
   "source": []
  },
  {
   "cell_type": "code",
   "execution_count": null,
   "metadata": {
    "collapsed": true
   },
   "outputs": [],
   "source": []
  }
 ],
 "metadata": {
  "kernelspec": {
   "display_name": "Python 2",
   "language": "python",
   "name": "python2"
  },
  "language_info": {
   "codemirror_mode": {
    "name": "ipython",
    "version": 2
   },
   "file_extension": ".py",
   "mimetype": "text/x-python",
   "name": "python",
   "nbconvert_exporter": "python",
   "pygments_lexer": "ipython2",
   "version": "2.7.13"
  }
 },
 "nbformat": 4,
 "nbformat_minor": 2
}
