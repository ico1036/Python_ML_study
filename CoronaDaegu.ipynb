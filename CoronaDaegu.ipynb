{
  "nbformat": 4,
  "nbformat_minor": 0,
  "metadata": {
    "colab": {
      "name": "CoronaDaegu.ipynb",
      "provenance": [],
      "collapsed_sections": [],
      "authorship_tag": "ABX9TyOXd3mUqWn/XP/pXoAisree"
    },
    "kernelspec": {
      "name": "python3",
      "display_name": "Python 3"
    }
  },
  "cells": [
    {
      "cell_type": "code",
      "metadata": {
        "id": "H2u_xlojyAjC",
        "colab_type": "code",
        "outputId": "8f818c74-e480-4d86-d83c-7ed2c68e3652",
        "colab": {
          "base_uri": "https://localhost:8080/",
          "height": 181
        }
      },
      "source": [
        "!pip install googlemaps"
      ],
      "execution_count": 1,
      "outputs": [
        {
          "output_type": "stream",
          "text": [
            "Collecting googlemaps\n",
            "  Downloading https://files.pythonhosted.org/packages/07/b8/bd7ab78014a4290853250ac8a1744c5a200e569811b7e0cc9222d38fc296/googlemaps-4.2.0-py3-none-any.whl\n",
            "Requirement already satisfied: requests<3.0,>=2.20.0 in /usr/local/lib/python3.6/dist-packages (from googlemaps) (2.21.0)\n",
            "Requirement already satisfied: chardet<3.1.0,>=3.0.2 in /usr/local/lib/python3.6/dist-packages (from requests<3.0,>=2.20.0->googlemaps) (3.0.4)\n",
            "Requirement already satisfied: idna<2.9,>=2.5 in /usr/local/lib/python3.6/dist-packages (from requests<3.0,>=2.20.0->googlemaps) (2.8)\n",
            "Requirement already satisfied: certifi>=2017.4.17 in /usr/local/lib/python3.6/dist-packages (from requests<3.0,>=2.20.0->googlemaps) (2019.11.28)\n",
            "Requirement already satisfied: urllib3<1.25,>=1.21.1 in /usr/local/lib/python3.6/dist-packages (from requests<3.0,>=2.20.0->googlemaps) (1.24.3)\n",
            "Installing collected packages: googlemaps\n",
            "Successfully installed googlemaps-4.2.0\n"
          ],
          "name": "stdout"
        }
      ]
    },
    {
      "cell_type": "code",
      "metadata": {
        "id": "P0uoOFR4_uFZ",
        "colab_type": "code",
        "outputId": "98ad6f40-adf2-4ad2-b47c-7234e7a09b28",
        "colab": {
          "base_uri": "https://localhost:8080/",
          "height": 217
        }
      },
      "source": [
        "!pip install folium"
      ],
      "execution_count": 2,
      "outputs": [
        {
          "output_type": "stream",
          "text": [
            "Requirement already satisfied: folium in /usr/local/lib/python3.6/dist-packages (0.8.3)\n",
            "Requirement already satisfied: requests in /usr/local/lib/python3.6/dist-packages (from folium) (2.21.0)\n",
            "Requirement already satisfied: jinja2 in /usr/local/lib/python3.6/dist-packages (from folium) (2.11.1)\n",
            "Requirement already satisfied: numpy in /usr/local/lib/python3.6/dist-packages (from folium) (1.17.5)\n",
            "Requirement already satisfied: six in /usr/local/lib/python3.6/dist-packages (from folium) (1.12.0)\n",
            "Requirement already satisfied: branca>=0.3.0 in /usr/local/lib/python3.6/dist-packages (from folium) (0.3.1)\n",
            "Requirement already satisfied: chardet<3.1.0,>=3.0.2 in /usr/local/lib/python3.6/dist-packages (from requests->folium) (3.0.4)\n",
            "Requirement already satisfied: certifi>=2017.4.17 in /usr/local/lib/python3.6/dist-packages (from requests->folium) (2019.11.28)\n",
            "Requirement already satisfied: idna<2.9,>=2.5 in /usr/local/lib/python3.6/dist-packages (from requests->folium) (2.8)\n",
            "Requirement already satisfied: urllib3<1.25,>=1.21.1 in /usr/local/lib/python3.6/dist-packages (from requests->folium) (1.24.3)\n",
            "Requirement already satisfied: MarkupSafe>=0.23 in /usr/local/lib/python3.6/dist-packages (from jinja2->folium) (1.1.1)\n"
          ],
          "name": "stdout"
        }
      ]
    },
    {
      "cell_type": "code",
      "metadata": {
        "id": "DyyYTljgyMWN",
        "colab_type": "code",
        "colab": {}
      },
      "source": [
        "import googlemaps\n",
        "import folium"
      ],
      "execution_count": 0,
      "outputs": []
    },
    {
      "cell_type": "code",
      "metadata": {
        "id": "wFyAtSrEzEce",
        "colab_type": "code",
        "colab": {}
      },
      "source": [
        "gmaps_key = \"Your_API_KEY\"\n",
        "gmaps = googlemaps.Client(key=gmaps_key)"
      ],
      "execution_count": 0,
      "outputs": []
    },
    {
      "cell_type": "code",
      "metadata": {
        "id": "M8ZEV86-zbO0",
        "colab_type": "code",
        "colab": {}
      },
      "source": [
        "loc1 = gmaps.geocode('경북대학교',language='ko')\n",
        "\n",
        "strs = (\"대구광역시 수성구 범어동 새로난한방병원\",\"대구 남구 대명5동 대명로 남부경찰서\",\"대구광역시 동구 방촌동 동촌로 퀸벨호텔\",\"대구광역시 동구 신천4동 동부로26길 부띠끄시티 드라마 오피스텔\",\"대구광역시 남구 대명10동 대명로 81\")"
      ],
      "execution_count": 0,
      "outputs": []
    },
    {
      "cell_type": "code",
      "metadata": {
        "id": "Me0G-Ul5_G4L",
        "colab_type": "code",
        "colab": {}
      },
      "source": [
        "loc31_list = []\n",
        "for str in strs:\n",
        "  loc31_list.append(gmaps.geocode(str,language='ko'))\n"
      ],
      "execution_count": 0,
      "outputs": []
    },
    {
      "cell_type": "code",
      "metadata": {
        "id": "ttTRVjvDzx0l",
        "colab_type": "code",
        "colab": {}
      },
      "source": [
        "def getgeo(loc):\n",
        "  locpair = loc[0]['geometry']['location']\n",
        "  loc_list = [locpair['lat'],locpair['lng']]\n",
        "  return loc_list\n",
        "# Ex\n",
        "#print(getgeo(loc1))\n",
        "#print(getgeo(loc31_list[0]))"
      ],
      "execution_count": 0,
      "outputs": []
    },
    {
      "cell_type": "code",
      "metadata": {
        "id": "Ui28UXTq3CaV",
        "colab_type": "code",
        "colab": {}
      },
      "source": [
        "map_ = folium.Map(location=getgeo(loc1),zoom_start=12)\n",
        "folium.Marker(getgeo(loc1),popup='내집').add_to(map_)\n",
        "\n",
        "for i in loc31_list:\n",
        "  folium.CircleMarker(getgeo(i),radius=10,color=\"red\",fill_color=\"red\",popup='N31').add_to(map_)"
      ],
      "execution_count": 0,
      "outputs": []
    },
    {
      "cell_type": "code",
      "metadata": {
        "id": "MTh36-zh8XIP",
        "colab_type": "code",
        "colab": {}
      },
      "source": [
        "map_.save('CoronaDaeguMap.html')"
      ],
      "execution_count": 0,
      "outputs": []
    },
    {
      "cell_type": "code",
      "metadata": {
        "id": "bLdPEd4NDTjo",
        "colab_type": "code",
        "outputId": "efc08499-61e2-4de2-e237-30d5e86332d6",
        "colab": {
          "base_uri": "https://localhost:8080/",
          "height": 992
        }
      },
      "source": [
        "map_"
      ],
      "execution_count": 10,
      "outputs": [
        {
          "output_type": "execute_result",
          "data": {
            "text/html": [
              "<div style=\"width:100%;\"><div style=\"position:relative;width:100%;height:0;padding-bottom:60%;\"><iframe src=\"data:text/html;charset=utf-8;base64,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\" style=\"position:absolute;width:100%;height:100%;left:0;top:0;border:none !important;\" allowfullscreen webkitallowfullscreen mozallowfullscreen></iframe></div></div>"
            ],
            "text/plain": [
              "<folium.folium.Map at 0x7fe692488550>"
            ]
          },
          "metadata": {
            "tags": []
          },
          "execution_count": 10
        }
      ]
    },
    {
      "cell_type": "code",
      "metadata": {
        "id": "Snkaf1AjGHkW",
        "colab_type": "code",
        "colab": {}
      },
      "source": [
        ""
      ],
      "execution_count": 0,
      "outputs": []
    }
  ]
}